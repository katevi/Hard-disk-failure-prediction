{
 "cells": [
  {
   "cell_type": "markdown",
   "id": "0afab6b6",
   "metadata": {},
   "source": [
    "## Доступные датасеты"
   ]
  },
  {
   "cell_type": "markdown",
   "id": "ce50cdf2",
   "metadata": {},
   "source": [
    "Cуществует 4 датасета, которые в основном используются в статьях:\n",
    "- Backblaze dataset (https://www.kaggle.com/datasets/thedevastator/hard-drive-reliability-data-set; here are new datasets https://www.backblaze.com/b2/hard-drive-test-data.html)\n",
    "- University of California dataset (ссылка устарела http://cmrr.ucsd.edu/smart, можно найти тут (ссылка актуальна для 2006г) https://web.archive.org/web/20100611213812/http://cmrr.ucsd.edu/people/hughes/smart/dataset/harddrive1.zip)\n",
    "- Quantum Corporation dataset -- ??\n",
    "- Baidu dataset - не нашла в открытом доступе (есть вот этот https://www.kaggle.com/datasets/drtycoon/baidu-hdds-dataset-2017 возможно можно использовать его, однако он имеет 14 признаков, тогда как статьи, использующие этот датасет, упоминают про 23 признака)"
   ]
  },
  {
   "cell_type": "markdown",
   "id": "fad35e71",
   "metadata": {},
   "source": [
    "## Datasets EDAs\n"
   ]
  },
  {
   "cell_type": "markdown",
   "id": "fd02e347",
   "metadata": {},
   "source": [
    "### University of california dataset analysis"
   ]
  },
  {
   "cell_type": "code",
   "execution_count": 1,
   "id": "283e4fb9",
   "metadata": {},
   "outputs": [
    {
     "data": {
      "text/html": [
       "<div>\n",
       "<style scoped>\n",
       "    .dataframe tbody tr th:only-of-type {\n",
       "        vertical-align: middle;\n",
       "    }\n",
       "\n",
       "    .dataframe tbody tr th {\n",
       "        vertical-align: top;\n",
       "    }\n",
       "\n",
       "    .dataframe thead th {\n",
       "        text-align: right;\n",
       "    }\n",
       "</style>\n",
       "<table border=\"1\" class=\"dataframe\">\n",
       "  <thead>\n",
       "    <tr style=\"text-align: right;\">\n",
       "      <th></th>\n",
       "      <th>serial</th>\n",
       "      <th>Frame</th>\n",
       "      <th>Hours</th>\n",
       "      <th>HoursBeforeFail</th>\n",
       "      <th>Temp1</th>\n",
       "      <th>Temp2</th>\n",
       "      <th>Temp3</th>\n",
       "      <th>Temp4</th>\n",
       "      <th>FlyHeight1</th>\n",
       "      <th>FlyHeight2</th>\n",
       "      <th>...</th>\n",
       "      <th>ReadError18</th>\n",
       "      <th>ReadError19</th>\n",
       "      <th>Servo7</th>\n",
       "      <th>Servo8</th>\n",
       "      <th>ReadError20</th>\n",
       "      <th>GList2</th>\n",
       "      <th>GList3</th>\n",
       "      <th>Servo9</th>\n",
       "      <th>Servo10</th>\n",
       "      <th>class</th>\n",
       "    </tr>\n",
       "  </thead>\n",
       "  <tbody>\n",
       "    <tr>\n",
       "      <th>0</th>\n",
       "      <td>b'100001'</td>\n",
       "      <td>0.0</td>\n",
       "      <td>0.000</td>\n",
       "      <td>2.216</td>\n",
       "      <td>10.0</td>\n",
       "      <td>0.0</td>\n",
       "      <td>0.0</td>\n",
       "      <td>10.0</td>\n",
       "      <td>7962.0</td>\n",
       "      <td>8986.0</td>\n",
       "      <td>...</td>\n",
       "      <td>0.0</td>\n",
       "      <td>0.0</td>\n",
       "      <td>0.0</td>\n",
       "      <td>0.0</td>\n",
       "      <td>0.0</td>\n",
       "      <td>0.0</td>\n",
       "      <td>0.0</td>\n",
       "      <td>0.0</td>\n",
       "      <td>0.0</td>\n",
       "      <td>b'1'</td>\n",
       "    </tr>\n",
       "    <tr>\n",
       "      <th>1</th>\n",
       "      <td>b'100001'</td>\n",
       "      <td>1.0</td>\n",
       "      <td>0.000</td>\n",
       "      <td>2.216</td>\n",
       "      <td>12.0</td>\n",
       "      <td>0.0</td>\n",
       "      <td>0.0</td>\n",
       "      <td>12.0</td>\n",
       "      <td>7972.0</td>\n",
       "      <td>8991.0</td>\n",
       "      <td>...</td>\n",
       "      <td>0.0</td>\n",
       "      <td>0.0</td>\n",
       "      <td>0.0</td>\n",
       "      <td>0.0</td>\n",
       "      <td>0.0</td>\n",
       "      <td>0.0</td>\n",
       "      <td>0.0</td>\n",
       "      <td>0.0</td>\n",
       "      <td>0.0</td>\n",
       "      <td>b'1'</td>\n",
       "    </tr>\n",
       "    <tr>\n",
       "      <th>2</th>\n",
       "      <td>b'100001'</td>\n",
       "      <td>2.0</td>\n",
       "      <td>0.016</td>\n",
       "      <td>2.200</td>\n",
       "      <td>11.0</td>\n",
       "      <td>0.0</td>\n",
       "      <td>10.0</td>\n",
       "      <td>11.0</td>\n",
       "      <td>7949.0</td>\n",
       "      <td>8981.0</td>\n",
       "      <td>...</td>\n",
       "      <td>0.0</td>\n",
       "      <td>0.0</td>\n",
       "      <td>0.0</td>\n",
       "      <td>0.0</td>\n",
       "      <td>0.0</td>\n",
       "      <td>0.0</td>\n",
       "      <td>0.0</td>\n",
       "      <td>0.0</td>\n",
       "      <td>128.0</td>\n",
       "      <td>b'1'</td>\n",
       "    </tr>\n",
       "    <tr>\n",
       "      <th>3</th>\n",
       "      <td>b'100001'</td>\n",
       "      <td>6.0</td>\n",
       "      <td>0.050</td>\n",
       "      <td>2.166</td>\n",
       "      <td>9.0</td>\n",
       "      <td>0.0</td>\n",
       "      <td>0.0</td>\n",
       "      <td>11.0</td>\n",
       "      <td>7955.0</td>\n",
       "      <td>8982.0</td>\n",
       "      <td>...</td>\n",
       "      <td>3.0</td>\n",
       "      <td>0.0</td>\n",
       "      <td>0.0</td>\n",
       "      <td>0.0</td>\n",
       "      <td>0.0</td>\n",
       "      <td>0.0</td>\n",
       "      <td>0.0</td>\n",
       "      <td>0.0</td>\n",
       "      <td>576.0</td>\n",
       "      <td>b'1'</td>\n",
       "    </tr>\n",
       "    <tr>\n",
       "      <th>4</th>\n",
       "      <td>b'100001'</td>\n",
       "      <td>7.0</td>\n",
       "      <td>0.083</td>\n",
       "      <td>2.133</td>\n",
       "      <td>7.0</td>\n",
       "      <td>0.0</td>\n",
       "      <td>0.0</td>\n",
       "      <td>9.0</td>\n",
       "      <td>7964.0</td>\n",
       "      <td>8984.0</td>\n",
       "      <td>...</td>\n",
       "      <td>7.0</td>\n",
       "      <td>0.0</td>\n",
       "      <td>0.0</td>\n",
       "      <td>0.0</td>\n",
       "      <td>0.0</td>\n",
       "      <td>0.0</td>\n",
       "      <td>0.0</td>\n",
       "      <td>0.0</td>\n",
       "      <td>576.0</td>\n",
       "      <td>b'1'</td>\n",
       "    </tr>\n",
       "  </tbody>\n",
       "</table>\n",
       "<p>5 rows × 64 columns</p>\n",
       "</div>"
      ],
      "text/plain": [
       "      serial  Frame  Hours  HoursBeforeFail  Temp1  Temp2  Temp3  Temp4  \\\n",
       "0  b'100001'    0.0  0.000            2.216   10.0    0.0    0.0   10.0   \n",
       "1  b'100001'    1.0  0.000            2.216   12.0    0.0    0.0   12.0   \n",
       "2  b'100001'    2.0  0.016            2.200   11.0    0.0   10.0   11.0   \n",
       "3  b'100001'    6.0  0.050            2.166    9.0    0.0    0.0   11.0   \n",
       "4  b'100001'    7.0  0.083            2.133    7.0    0.0    0.0    9.0   \n",
       "\n",
       "   FlyHeight1  FlyHeight2  ...  ReadError18  ReadError19  Servo7  Servo8  \\\n",
       "0      7962.0      8986.0  ...          0.0          0.0     0.0     0.0   \n",
       "1      7972.0      8991.0  ...          0.0          0.0     0.0     0.0   \n",
       "2      7949.0      8981.0  ...          0.0          0.0     0.0     0.0   \n",
       "3      7955.0      8982.0  ...          3.0          0.0     0.0     0.0   \n",
       "4      7964.0      8984.0  ...          7.0          0.0     0.0     0.0   \n",
       "\n",
       "   ReadError20  GList2  GList3  Servo9  Servo10  class  \n",
       "0          0.0     0.0     0.0     0.0      0.0   b'1'  \n",
       "1          0.0     0.0     0.0     0.0      0.0   b'1'  \n",
       "2          0.0     0.0     0.0     0.0    128.0   b'1'  \n",
       "3          0.0     0.0     0.0     0.0    576.0   b'1'  \n",
       "4          0.0     0.0     0.0     0.0    576.0   b'1'  \n",
       "\n",
       "[5 rows x 64 columns]"
      ]
     },
     "execution_count": 1,
     "metadata": {},
     "output_type": "execute_result"
    }
   ],
   "source": [
    "from scipy.io import arff\n",
    "\n",
    "import pandas as pd\n",
    "\n",
    "data = arff.loadarff('./uc/harddrive1.arff')\n",
    "df_uc = pd.DataFrame(data[0])\n",
    "\n",
    "df_uc.head()"
   ]
  },
  {
   "cell_type": "markdown",
   "id": "df674ff1",
   "metadata": {},
   "source": [
    "Не совсем понятна корелляция признаков датасета со SMART параметрами жесткого диска, поэтому временно исследование данного датасета временно было отложено."
   ]
  },
  {
   "cell_type": "markdown",
   "id": "b629f870",
   "metadata": {},
   "source": [
    "### Backblaze dataset analysis EDA\n",
    "#### Preliminary"
   ]
  },
  {
   "cell_type": "code",
   "execution_count": 2,
   "id": "2328be17",
   "metadata": {},
   "outputs": [
    {
     "data": {
      "text/html": [
       "<div>\n",
       "<style scoped>\n",
       "    .dataframe tbody tr th:only-of-type {\n",
       "        vertical-align: middle;\n",
       "    }\n",
       "\n",
       "    .dataframe tbody tr th {\n",
       "        vertical-align: top;\n",
       "    }\n",
       "\n",
       "    .dataframe thead th {\n",
       "        text-align: right;\n",
       "    }\n",
       "</style>\n",
       "<table border=\"1\" class=\"dataframe\">\n",
       "  <thead>\n",
       "    <tr style=\"text-align: right;\">\n",
       "      <th></th>\n",
       "      <th>index</th>\n",
       "      <th>date</th>\n",
       "      <th>serial_number</th>\n",
       "      <th>model</th>\n",
       "      <th>capacity_bytes</th>\n",
       "      <th>failure</th>\n",
       "      <th>smart_1_normalized</th>\n",
       "      <th>smart_1_raw</th>\n",
       "      <th>smart_2_normalized</th>\n",
       "      <th>smart_2_raw</th>\n",
       "      <th>...</th>\n",
       "      <th>smart_250_normalized</th>\n",
       "      <th>smart_250_raw</th>\n",
       "      <th>smart_251_normalized</th>\n",
       "      <th>smart_251_raw</th>\n",
       "      <th>smart_252_normalized</th>\n",
       "      <th>smart_252_raw</th>\n",
       "      <th>smart_254_normalized</th>\n",
       "      <th>smart_254_raw</th>\n",
       "      <th>smart_255_normalized</th>\n",
       "      <th>smart_255_raw</th>\n",
       "    </tr>\n",
       "  </thead>\n",
       "  <tbody>\n",
       "    <tr>\n",
       "      <th>0</th>\n",
       "      <td>0</td>\n",
       "      <td>2017-01-01</td>\n",
       "      <td>MJ0351YNG9Z0XA</td>\n",
       "      <td>Hitachi HDS5C3030ALA630</td>\n",
       "      <td>3000592982016</td>\n",
       "      <td>0</td>\n",
       "      <td>100</td>\n",
       "      <td>0</td>\n",
       "      <td>135.0</td>\n",
       "      <td>108.0</td>\n",
       "      <td>...</td>\n",
       "      <td>NaN</td>\n",
       "      <td>NaN</td>\n",
       "      <td>NaN</td>\n",
       "      <td>NaN</td>\n",
       "      <td>NaN</td>\n",
       "      <td>NaN</td>\n",
       "      <td>NaN</td>\n",
       "      <td>NaN</td>\n",
       "      <td>NaN</td>\n",
       "      <td>NaN</td>\n",
       "    </tr>\n",
       "    <tr>\n",
       "      <th>1</th>\n",
       "      <td>1</td>\n",
       "      <td>2017-01-01</td>\n",
       "      <td>MJ0351YNG9WJSA</td>\n",
       "      <td>Hitachi HDS5C3030ALA630</td>\n",
       "      <td>3000592982016</td>\n",
       "      <td>0</td>\n",
       "      <td>100</td>\n",
       "      <td>0</td>\n",
       "      <td>136.0</td>\n",
       "      <td>104.0</td>\n",
       "      <td>...</td>\n",
       "      <td>NaN</td>\n",
       "      <td>NaN</td>\n",
       "      <td>NaN</td>\n",
       "      <td>NaN</td>\n",
       "      <td>NaN</td>\n",
       "      <td>NaN</td>\n",
       "      <td>NaN</td>\n",
       "      <td>NaN</td>\n",
       "      <td>NaN</td>\n",
       "      <td>NaN</td>\n",
       "    </tr>\n",
       "    <tr>\n",
       "      <th>2</th>\n",
       "      <td>2</td>\n",
       "      <td>2017-01-01</td>\n",
       "      <td>PL1321LAG34XWH</td>\n",
       "      <td>Hitachi HDS5C4040ALE630</td>\n",
       "      <td>4000787030016</td>\n",
       "      <td>0</td>\n",
       "      <td>100</td>\n",
       "      <td>0</td>\n",
       "      <td>134.0</td>\n",
       "      <td>101.0</td>\n",
       "      <td>...</td>\n",
       "      <td>NaN</td>\n",
       "      <td>NaN</td>\n",
       "      <td>NaN</td>\n",
       "      <td>NaN</td>\n",
       "      <td>NaN</td>\n",
       "      <td>NaN</td>\n",
       "      <td>NaN</td>\n",
       "      <td>NaN</td>\n",
       "      <td>NaN</td>\n",
       "      <td>NaN</td>\n",
       "    </tr>\n",
       "    <tr>\n",
       "      <th>3</th>\n",
       "      <td>3</td>\n",
       "      <td>2017-01-01</td>\n",
       "      <td>MJ0351YNGABYAA</td>\n",
       "      <td>Hitachi HDS5C3030ALA630</td>\n",
       "      <td>3000592982016</td>\n",
       "      <td>0</td>\n",
       "      <td>100</td>\n",
       "      <td>0</td>\n",
       "      <td>136.0</td>\n",
       "      <td>104.0</td>\n",
       "      <td>...</td>\n",
       "      <td>NaN</td>\n",
       "      <td>NaN</td>\n",
       "      <td>NaN</td>\n",
       "      <td>NaN</td>\n",
       "      <td>NaN</td>\n",
       "      <td>NaN</td>\n",
       "      <td>NaN</td>\n",
       "      <td>NaN</td>\n",
       "      <td>NaN</td>\n",
       "      <td>NaN</td>\n",
       "    </tr>\n",
       "    <tr>\n",
       "      <th>4</th>\n",
       "      <td>4</td>\n",
       "      <td>2017-01-01</td>\n",
       "      <td>Z305B2QN</td>\n",
       "      <td>ST4000DM000</td>\n",
       "      <td>4000787030016</td>\n",
       "      <td>0</td>\n",
       "      <td>113</td>\n",
       "      <td>58173272</td>\n",
       "      <td>NaN</td>\n",
       "      <td>NaN</td>\n",
       "      <td>...</td>\n",
       "      <td>NaN</td>\n",
       "      <td>NaN</td>\n",
       "      <td>NaN</td>\n",
       "      <td>NaN</td>\n",
       "      <td>NaN</td>\n",
       "      <td>NaN</td>\n",
       "      <td>NaN</td>\n",
       "      <td>NaN</td>\n",
       "      <td>NaN</td>\n",
       "      <td>NaN</td>\n",
       "    </tr>\n",
       "  </tbody>\n",
       "</table>\n",
       "<p>5 rows × 96 columns</p>\n",
       "</div>"
      ],
      "text/plain": [
       "   index        date   serial_number                    model  capacity_bytes  \\\n",
       "0      0  2017-01-01  MJ0351YNG9Z0XA  Hitachi HDS5C3030ALA630   3000592982016   \n",
       "1      1  2017-01-01  MJ0351YNG9WJSA  Hitachi HDS5C3030ALA630   3000592982016   \n",
       "2      2  2017-01-01  PL1321LAG34XWH  Hitachi HDS5C4040ALE630   4000787030016   \n",
       "3      3  2017-01-01  MJ0351YNGABYAA  Hitachi HDS5C3030ALA630   3000592982016   \n",
       "4      4  2017-01-01        Z305B2QN              ST4000DM000   4000787030016   \n",
       "\n",
       "   failure  smart_1_normalized  smart_1_raw  smart_2_normalized  smart_2_raw  \\\n",
       "0        0                 100            0               135.0        108.0   \n",
       "1        0                 100            0               136.0        104.0   \n",
       "2        0                 100            0               134.0        101.0   \n",
       "3        0                 100            0               136.0        104.0   \n",
       "4        0                 113     58173272                 NaN          NaN   \n",
       "\n",
       "   ...  smart_250_normalized  smart_250_raw  smart_251_normalized  \\\n",
       "0  ...                   NaN            NaN                   NaN   \n",
       "1  ...                   NaN            NaN                   NaN   \n",
       "2  ...                   NaN            NaN                   NaN   \n",
       "3  ...                   NaN            NaN                   NaN   \n",
       "4  ...                   NaN            NaN                   NaN   \n",
       "\n",
       "   smart_251_raw  smart_252_normalized  smart_252_raw  smart_254_normalized  \\\n",
       "0            NaN                   NaN            NaN                   NaN   \n",
       "1            NaN                   NaN            NaN                   NaN   \n",
       "2            NaN                   NaN            NaN                   NaN   \n",
       "3            NaN                   NaN            NaN                   NaN   \n",
       "4            NaN                   NaN            NaN                   NaN   \n",
       "\n",
       "   smart_254_raw  smart_255_normalized  smart_255_raw  \n",
       "0            NaN                   NaN            NaN  \n",
       "1            NaN                   NaN            NaN  \n",
       "2            NaN                   NaN            NaN  \n",
       "3            NaN                   NaN            NaN  \n",
       "4            NaN                   NaN            NaN  \n",
       "\n",
       "[5 rows x 96 columns]"
      ]
     },
     "execution_count": 2,
     "metadata": {},
     "output_type": "execute_result"
    }
   ],
   "source": [
    "import os\n",
    "import glob\n",
    "\n",
    "# Concatenating all datasets (one dataset per month 2017) to one\n",
    "df_bb = pd.concat(map(pd.read_csv, glob.glob(\"./backblaze/*.csv\")))\n",
    "df_bb.head()"
   ]
  },
  {
   "cell_type": "code",
   "execution_count": 3,
   "id": "0e232ad6",
   "metadata": {},
   "outputs": [
    {
     "data": {
      "text/plain": [
       "(1031501, 96)"
      ]
     },
     "execution_count": 3,
     "metadata": {},
     "output_type": "execute_result"
    }
   ],
   "source": [
    "df_bb.shape"
   ]
  },
  {
   "cell_type": "code",
   "execution_count": 4,
   "id": "bd516e56",
   "metadata": {},
   "outputs": [
    {
     "data": {
      "text/plain": [
       "0    1031456\n",
       "1         45\n",
       "Name: failure, dtype: int64"
      ]
     },
     "execution_count": 4,
     "metadata": {},
     "output_type": "execute_result"
    }
   ],
   "source": [
    "df_bb['failure'].value_counts()"
   ]
  },
  {
   "cell_type": "code",
   "execution_count": 5,
   "id": "fd1ef93b",
   "metadata": {},
   "outputs": [
    {
     "name": "stdout",
     "output_type": "stream",
     "text": [
      "model\n",
      "ST4000DM000                24\n",
      "HGST HMS5C4040BLE640       10\n",
      "Hitachi HDS5C3030ALA630     3\n",
      "ST4000DX000                 2\n",
      "TOSHIBA MQ01ABF050          2\n",
      "ST8000DM002                 1\n",
      "ST6000DX000                 1\n",
      "WDC WD30EFRX                1\n",
      "Hitachi HDS723030ALA640     1\n",
      "WDC WD1600AAJS              0\n",
      "WDC WD10EADX                0\n",
      "WDC WD10EACS                0\n",
      "WDC WD10EADS                0\n",
      "WDC WD2500AAJS              0\n",
      "WDC WD1000FYPS              0\n",
      "TOSHIBA MD04ABA500V         0\n",
      "WDC WD1600BPVT              0\n",
      "WDC WD2500BPVT              0\n",
      "WDC WD2500BEVT              0\n",
      "TOSHIBA DT01ACA300          0\n",
      "WDC WD3200AAJS              0\n",
      "WDC WD3200BEKX              0\n",
      "WDC WD3200LPVX              0\n",
      "WDC WD40EFRX                0\n",
      "WDC WD5000BPKT              0\n",
      "WDC WD5000LPCX              0\n",
      "WDC WD5000LPVX              0\n",
      "WDC WD5002ABYS              0\n",
      "WDC WD5003ABYX              0\n",
      "TOSHIBA MD04ABA400V         0\n",
      "Name: failure, dtype: int64\n"
     ]
    }
   ],
   "source": [
    "print(df_bb.groupby('model')['failure'].sum().sort_values(ascending=False).iloc[:30])"
   ]
  },
  {
   "cell_type": "markdown",
   "id": "62b06c63",
   "metadata": {},
   "source": [
    "Таким образом, датасет имеет 1031501 записей о жестких дисках, из которых 45 дисков отказали.\n",
    "Так как каждый поставщик дисков поставляет значения SMART параметров своим способом, правильнее выбрать одну модель диска и прогнозировать ее отказ. \n",
    "Так как больше всего отказавших дисков было модели ST4000DM000, можно взять эту модель. "
   ]
  },
  {
   "cell_type": "code",
   "execution_count": 6,
   "id": "93f1d30b",
   "metadata": {},
   "outputs": [
    {
     "data": {
      "text/plain": [
       "(486316, 96)"
      ]
     },
     "execution_count": 6,
     "metadata": {},
     "output_type": "execute_result"
    }
   ],
   "source": [
    "df_bb = df_bb.query('model == \"ST4000DM000\"')\n",
    "df_bb.shape"
   ]
  },
  {
   "cell_type": "markdown",
   "id": "8cc5310d",
   "metadata": {},
   "source": [
    "24 отказавших диска для датасета из 486316 наблюдений --- очень маленькое количество, поэтому хочется взять датасет, где отказавших дисков больше.\n",
    "Нашла вот этот: https://www.kaggle.com/datasets/awant08/hard-drive-failure-prediction-st4000dm000"
   ]
  },
  {
   "cell_type": "code",
   "execution_count": 7,
   "id": "1a9c9614",
   "metadata": {},
   "outputs": [
    {
     "data": {
      "text/html": [
       "<div>\n",
       "<style scoped>\n",
       "    .dataframe tbody tr th:only-of-type {\n",
       "        vertical-align: middle;\n",
       "    }\n",
       "\n",
       "    .dataframe tbody tr th {\n",
       "        vertical-align: top;\n",
       "    }\n",
       "\n",
       "    .dataframe thead th {\n",
       "        text-align: right;\n",
       "    }\n",
       "</style>\n",
       "<table border=\"1\" class=\"dataframe\">\n",
       "  <thead>\n",
       "    <tr style=\"text-align: right;\">\n",
       "      <th></th>\n",
       "      <th>date</th>\n",
       "      <th>serial_number</th>\n",
       "      <th>model</th>\n",
       "      <th>capacity_bytes</th>\n",
       "      <th>failure</th>\n",
       "      <th>smart_1_normalized</th>\n",
       "      <th>smart_1_raw</th>\n",
       "      <th>smart_2_normalized</th>\n",
       "      <th>smart_2_raw</th>\n",
       "      <th>smart_3_normalized</th>\n",
       "      <th>...</th>\n",
       "      <th>smart_250_normalized</th>\n",
       "      <th>smart_250_raw</th>\n",
       "      <th>smart_251_normalized</th>\n",
       "      <th>smart_251_raw</th>\n",
       "      <th>smart_252_normalized</th>\n",
       "      <th>smart_252_raw</th>\n",
       "      <th>smart_254_normalized</th>\n",
       "      <th>smart_254_raw</th>\n",
       "      <th>smart_255_normalized</th>\n",
       "      <th>smart_255_raw</th>\n",
       "    </tr>\n",
       "  </thead>\n",
       "  <tbody>\n",
       "    <tr>\n",
       "      <th>0</th>\n",
       "      <td>2018-01-01</td>\n",
       "      <td>Z3016TK2</td>\n",
       "      <td>ST4000DM000</td>\n",
       "      <td>4000787030016</td>\n",
       "      <td>0</td>\n",
       "      <td>115.0</td>\n",
       "      <td>87117728.0</td>\n",
       "      <td>NaN</td>\n",
       "      <td>NaN</td>\n",
       "      <td>96.0</td>\n",
       "      <td>...</td>\n",
       "      <td>NaN</td>\n",
       "      <td>NaN</td>\n",
       "      <td>NaN</td>\n",
       "      <td>NaN</td>\n",
       "      <td>NaN</td>\n",
       "      <td>NaN</td>\n",
       "      <td>NaN</td>\n",
       "      <td>NaN</td>\n",
       "      <td>NaN</td>\n",
       "      <td>NaN</td>\n",
       "    </tr>\n",
       "    <tr>\n",
       "      <th>1</th>\n",
       "      <td>2018-01-01</td>\n",
       "      <td>W300GLSS</td>\n",
       "      <td>ST4000DM000</td>\n",
       "      <td>4000787030016</td>\n",
       "      <td>1</td>\n",
       "      <td>111.0</td>\n",
       "      <td>40108520.0</td>\n",
       "      <td>NaN</td>\n",
       "      <td>NaN</td>\n",
       "      <td>92.0</td>\n",
       "      <td>...</td>\n",
       "      <td>NaN</td>\n",
       "      <td>NaN</td>\n",
       "      <td>NaN</td>\n",
       "      <td>NaN</td>\n",
       "      <td>NaN</td>\n",
       "      <td>NaN</td>\n",
       "      <td>NaN</td>\n",
       "      <td>NaN</td>\n",
       "      <td>NaN</td>\n",
       "      <td>NaN</td>\n",
       "    </tr>\n",
       "    <tr>\n",
       "      <th>2</th>\n",
       "      <td>2018-01-01</td>\n",
       "      <td>Z302SXQ0</td>\n",
       "      <td>ST4000DM000</td>\n",
       "      <td>4000787030016</td>\n",
       "      <td>0</td>\n",
       "      <td>119.0</td>\n",
       "      <td>208926768.0</td>\n",
       "      <td>NaN</td>\n",
       "      <td>NaN</td>\n",
       "      <td>94.0</td>\n",
       "      <td>...</td>\n",
       "      <td>NaN</td>\n",
       "      <td>NaN</td>\n",
       "      <td>NaN</td>\n",
       "      <td>NaN</td>\n",
       "      <td>NaN</td>\n",
       "      <td>NaN</td>\n",
       "      <td>NaN</td>\n",
       "      <td>NaN</td>\n",
       "      <td>NaN</td>\n",
       "      <td>NaN</td>\n",
       "    </tr>\n",
       "    <tr>\n",
       "      <th>3</th>\n",
       "      <td>2018-01-01</td>\n",
       "      <td>Z3025L3F</td>\n",
       "      <td>ST4000DM000</td>\n",
       "      <td>4000787030016</td>\n",
       "      <td>1</td>\n",
       "      <td>111.0</td>\n",
       "      <td>30947064.0</td>\n",
       "      <td>NaN</td>\n",
       "      <td>NaN</td>\n",
       "      <td>92.0</td>\n",
       "      <td>...</td>\n",
       "      <td>NaN</td>\n",
       "      <td>NaN</td>\n",
       "      <td>NaN</td>\n",
       "      <td>NaN</td>\n",
       "      <td>NaN</td>\n",
       "      <td>NaN</td>\n",
       "      <td>NaN</td>\n",
       "      <td>NaN</td>\n",
       "      <td>NaN</td>\n",
       "      <td>NaN</td>\n",
       "    </tr>\n",
       "    <tr>\n",
       "      <th>4</th>\n",
       "      <td>2018-01-01</td>\n",
       "      <td>Z302SW9C</td>\n",
       "      <td>ST4000DM000</td>\n",
       "      <td>4000787030016</td>\n",
       "      <td>0</td>\n",
       "      <td>117.0</td>\n",
       "      <td>137764288.0</td>\n",
       "      <td>NaN</td>\n",
       "      <td>NaN</td>\n",
       "      <td>92.0</td>\n",
       "      <td>...</td>\n",
       "      <td>NaN</td>\n",
       "      <td>NaN</td>\n",
       "      <td>NaN</td>\n",
       "      <td>NaN</td>\n",
       "      <td>NaN</td>\n",
       "      <td>NaN</td>\n",
       "      <td>NaN</td>\n",
       "      <td>NaN</td>\n",
       "      <td>NaN</td>\n",
       "      <td>NaN</td>\n",
       "    </tr>\n",
       "  </tbody>\n",
       "</table>\n",
       "<p>5 rows × 105 columns</p>\n",
       "</div>"
      ],
      "text/plain": [
       "         date serial_number        model  capacity_bytes  failure  \\\n",
       "0  2018-01-01      Z3016TK2  ST4000DM000   4000787030016        0   \n",
       "1  2018-01-01      W300GLSS  ST4000DM000   4000787030016        1   \n",
       "2  2018-01-01      Z302SXQ0  ST4000DM000   4000787030016        0   \n",
       "3  2018-01-01      Z3025L3F  ST4000DM000   4000787030016        1   \n",
       "4  2018-01-01      Z302SW9C  ST4000DM000   4000787030016        0   \n",
       "\n",
       "   smart_1_normalized  smart_1_raw  smart_2_normalized  smart_2_raw  \\\n",
       "0               115.0   87117728.0                 NaN          NaN   \n",
       "1               111.0   40108520.0                 NaN          NaN   \n",
       "2               119.0  208926768.0                 NaN          NaN   \n",
       "3               111.0   30947064.0                 NaN          NaN   \n",
       "4               117.0  137764288.0                 NaN          NaN   \n",
       "\n",
       "   smart_3_normalized  ...  smart_250_normalized  smart_250_raw  \\\n",
       "0                96.0  ...                   NaN            NaN   \n",
       "1                92.0  ...                   NaN            NaN   \n",
       "2                94.0  ...                   NaN            NaN   \n",
       "3                92.0  ...                   NaN            NaN   \n",
       "4                92.0  ...                   NaN            NaN   \n",
       "\n",
       "   smart_251_normalized  smart_251_raw  smart_252_normalized  smart_252_raw  \\\n",
       "0                   NaN            NaN                   NaN            NaN   \n",
       "1                   NaN            NaN                   NaN            NaN   \n",
       "2                   NaN            NaN                   NaN            NaN   \n",
       "3                   NaN            NaN                   NaN            NaN   \n",
       "4                   NaN            NaN                   NaN            NaN   \n",
       "\n",
       "   smart_254_normalized  smart_254_raw  smart_255_normalized  smart_255_raw  \n",
       "0                   NaN            NaN                   NaN            NaN  \n",
       "1                   NaN            NaN                   NaN            NaN  \n",
       "2                   NaN            NaN                   NaN            NaN  \n",
       "3                   NaN            NaN                   NaN            NaN  \n",
       "4                   NaN            NaN                   NaN            NaN  \n",
       "\n",
       "[5 rows x 105 columns]"
      ]
     },
     "execution_count": 7,
     "metadata": {},
     "output_type": "execute_result"
    }
   ],
   "source": [
    "import pandas as pd\n",
    "\n",
    "# Concatenating all datasets (one dataset per month 2017) to one\n",
    "##df_bb = pd.concat(map(pd.read_csv, glob.glob(\"./backblaze_ST4000DM000/*.csv\")))\n",
    "df_bb = pd.read_csv('./backblaze_ST4000DM000/model_2018_ST4000DM000.csv')\n",
    "df_bb.head()"
   ]
  },
  {
   "cell_type": "code",
   "execution_count": 8,
   "id": "3ed831e3",
   "metadata": {},
   "outputs": [
    {
     "data": {
      "text/plain": [
       "0    367482\n",
       "1     12596\n",
       "Name: failure, dtype: int64"
      ]
     },
     "execution_count": 8,
     "metadata": {},
     "output_type": "execute_result"
    }
   ],
   "source": [
    "#df_bb = df_bb.sample(n=10000, random_state = 42)\n",
    "df_bb['failure'].value_counts()"
   ]
  },
  {
   "cell_type": "markdown",
   "id": "56f200f3",
   "metadata": {},
   "source": [
    "В этом датасете отказавших дисков больше, и они все одной модели.\n",
    "\n",
    "####  Data cleaning\n",
    "Будем работать с нормализованными данными."
   ]
  },
  {
   "cell_type": "code",
   "execution_count": 9,
   "id": "d7fa775f",
   "metadata": {},
   "outputs": [
    {
     "name": "stdout",
     "output_type": "stream",
     "text": [
      "Dataset with normalized features values ['date' 'serial_number' 'model' 'capacity_bytes' 'failure'\n",
      " 'smart_1_normalized' 'smart_2_normalized' 'smart_3_normalized'\n",
      " 'smart_4_normalized' 'smart_5_normalized' 'smart_7_normalized'\n",
      " 'smart_8_normalized' 'smart_9_normalized' 'smart_10_normalized'\n",
      " 'smart_11_normalized' 'smart_12_normalized' 'smart_13_normalized'\n",
      " 'smart_15_normalized' 'smart_22_normalized' 'smart_177_normalized'\n",
      " 'smart_179_normalized' 'smart_181_normalized' 'smart_182_normalized'\n",
      " 'smart_183_normalized' 'smart_184_normalized' 'smart_187_normalized'\n",
      " 'smart_188_normalized' 'smart_189_normalized' 'smart_190_normalized'\n",
      " 'smart_191_normalized' 'smart_192_normalized' 'smart_193_normalized'\n",
      " 'smart_194_normalized' 'smart_195_normalized' 'smart_196_normalized'\n",
      " 'smart_197_normalized' 'smart_198_normalized' 'smart_199_normalized'\n",
      " 'smart_200_normalized' 'smart_201_normalized' 'smart_220_normalized'\n",
      " 'smart_222_normalized' 'smart_223_normalized' 'smart_224_normalized'\n",
      " 'smart_225_normalized' 'smart_226_normalized' 'smart_235_normalized'\n",
      " 'smart_240_normalized' 'smart_241_normalized' 'smart_242_normalized'\n",
      " 'smart_250_normalized' 'smart_251_normalized' 'smart_252_normalized'\n",
      " 'smart_254_normalized' 'smart_255_normalized']\n",
      "(380078, 55)\n"
     ]
    }
   ],
   "source": [
    "#df_bb.drop(['failure', 'serial_number'], inplace=True, axis=1)\n",
    "df_bb_normalized = df_bb[df_bb.columns.drop(list(df_bb.filter(regex='raw')))]\n",
    "feat_names_normalized = df_bb_normalized.columns.values\n",
    "print(\"Dataset with normalized features values\", feat_names_normalized)\n",
    "print(df_bb_normalized.shape)"
   ]
  },
  {
   "cell_type": "code",
   "execution_count": 10,
   "id": "fedcaec3",
   "metadata": {},
   "outputs": [
    {
     "data": {
      "text/plain": [
       "date                         0\n",
       "serial_number                0\n",
       "model                        0\n",
       "capacity_bytes               0\n",
       "failure                      0\n",
       "smart_1_normalized          16\n",
       "smart_2_normalized      380078\n",
       "smart_3_normalized          16\n",
       "smart_4_normalized          16\n",
       "smart_5_normalized          16\n",
       "smart_7_normalized          16\n",
       "smart_8_normalized      380078\n",
       "smart_9_normalized          16\n",
       "smart_10_normalized         16\n",
       "smart_11_normalized     380078\n",
       "smart_12_normalized         16\n",
       "smart_13_normalized     380078\n",
       "smart_15_normalized     380078\n",
       "smart_22_normalized     380078\n",
       "smart_177_normalized    380078\n",
       "smart_179_normalized    380078\n",
       "smart_181_normalized    380078\n",
       "smart_182_normalized    380078\n",
       "smart_183_normalized        16\n",
       "smart_184_normalized        16\n",
       "smart_187_normalized        16\n",
       "smart_188_normalized        16\n",
       "smart_189_normalized        16\n",
       "smart_190_normalized        16\n",
       "smart_191_normalized        16\n",
       "smart_192_normalized        16\n",
       "smart_193_normalized        16\n",
       "smart_194_normalized        16\n",
       "smart_195_normalized    380078\n",
       "smart_196_normalized    380078\n",
       "smart_197_normalized        16\n",
       "smart_198_normalized        16\n",
       "smart_199_normalized        16\n",
       "smart_200_normalized    380078\n",
       "smart_201_normalized    380078\n",
       "smart_220_normalized    380078\n",
       "smart_222_normalized    380078\n",
       "smart_223_normalized    380078\n",
       "smart_224_normalized    380078\n",
       "smart_225_normalized    380078\n",
       "smart_226_normalized    380078\n",
       "smart_235_normalized    380078\n",
       "smart_240_normalized        16\n",
       "smart_241_normalized        16\n",
       "smart_242_normalized        16\n",
       "smart_250_normalized    380078\n",
       "smart_251_normalized    380078\n",
       "smart_252_normalized    380078\n",
       "smart_254_normalized    380078\n",
       "smart_255_normalized    380078\n",
       "dtype: int64"
      ]
     },
     "execution_count": 10,
     "metadata": {},
     "output_type": "execute_result"
    }
   ],
   "source": [
    "df_bb_normalized.isnull().sum()"
   ]
  },
  {
   "cell_type": "markdown",
   "id": "eeed42ff",
   "metadata": {},
   "source": [
    "Как видим, в датасете есть много признаков без значений. Удалим их."
   ]
  },
  {
   "cell_type": "code",
   "execution_count": 11,
   "id": "b7ace1f7",
   "metadata": {},
   "outputs": [
    {
     "data": {
      "text/plain": [
       "date                     0\n",
       "serial_number            0\n",
       "model                    0\n",
       "capacity_bytes           0\n",
       "failure                  0\n",
       "smart_1_normalized      16\n",
       "smart_3_normalized      16\n",
       "smart_4_normalized      16\n",
       "smart_5_normalized      16\n",
       "smart_7_normalized      16\n",
       "smart_9_normalized      16\n",
       "smart_10_normalized     16\n",
       "smart_12_normalized     16\n",
       "smart_183_normalized    16\n",
       "smart_184_normalized    16\n",
       "smart_187_normalized    16\n",
       "smart_188_normalized    16\n",
       "smart_189_normalized    16\n",
       "smart_190_normalized    16\n",
       "smart_191_normalized    16\n",
       "smart_192_normalized    16\n",
       "smart_193_normalized    16\n",
       "smart_194_normalized    16\n",
       "smart_197_normalized    16\n",
       "smart_198_normalized    16\n",
       "smart_199_normalized    16\n",
       "smart_240_normalized    16\n",
       "smart_241_normalized    16\n",
       "smart_242_normalized    16\n",
       "dtype: int64"
      ]
     },
     "execution_count": 11,
     "metadata": {},
     "output_type": "execute_result"
    }
   ],
   "source": [
    "columns_with_values = df_bb_normalized.columns[df_bb_normalized.isnull().sum() <= 32]\n",
    "df_bb_normalized = df_bb_normalized[columns_with_values]\n",
    "df_bb_normalized.isnull().sum()"
   ]
  },
  {
   "cell_type": "code",
   "execution_count": 12,
   "id": "cd223987",
   "metadata": {},
   "outputs": [
    {
     "data": {
      "text/plain": [
       " 4000787030016    380062\n",
       "-1                    16\n",
       "Name: capacity_bytes, dtype: int64"
      ]
     },
     "execution_count": 12,
     "metadata": {},
     "output_type": "execute_result"
    }
   ],
   "source": [
    "df_bb_normalized['capacity_bytes'].value_counts()"
   ]
  },
  {
   "cell_type": "markdown",
   "id": "dc94e70f",
   "metadata": {},
   "source": [
    "У большинства дисков установлено значение capacity_bytes = 4000787030016. Удалим этот признак."
   ]
  },
  {
   "cell_type": "code",
   "execution_count": 13,
   "id": "26b4aa55",
   "metadata": {},
   "outputs": [
    {
     "data": {
      "text/plain": [
       "100.0    380062\n",
       "Name: smart_10_normalized, dtype: int64"
      ]
     },
     "execution_count": 13,
     "metadata": {},
     "output_type": "execute_result"
    }
   ],
   "source": [
    "df_bb_normalized['smart_10_normalized'].value_counts()"
   ]
  },
  {
   "cell_type": "markdown",
   "id": "056eda06",
   "metadata": {},
   "source": [
    "Все наблюдения имеют значение признака smart_10_normalized = 100. Удалим этот признак."
   ]
  },
  {
   "cell_type": "code",
   "execution_count": 14,
   "id": "1004849b",
   "metadata": {},
   "outputs": [
    {
     "data": {
      "text/plain": [
       "100.0    380061\n",
       "99.0          1\n",
       "Name: smart_188_normalized, dtype: int64"
      ]
     },
     "execution_count": 14,
     "metadata": {},
     "output_type": "execute_result"
    }
   ],
   "source": [
    "df_bb_normalized['smart_188_normalized'].value_counts()"
   ]
  },
  {
   "cell_type": "markdown",
   "id": "c22c797c",
   "metadata": {},
   "source": [
    "Почти все наблюдения имеют значение признака smart_188_normalized = 100. Удалим этот признак."
   ]
  },
  {
   "cell_type": "code",
   "execution_count": 15,
   "id": "82afe76a",
   "metadata": {},
   "outputs": [
    {
     "data": {
      "text/plain": [
       "100.0    380062\n",
       "Name: smart_191_normalized, dtype: int64"
      ]
     },
     "execution_count": 15,
     "metadata": {},
     "output_type": "execute_result"
    }
   ],
   "source": [
    "df_bb_normalized['smart_191_normalized'].value_counts()"
   ]
  },
  {
   "cell_type": "markdown",
   "id": "4ec3567a",
   "metadata": {},
   "source": [
    "Все наблюдения имеют значение признака smart_191_normalized = 100. Удалим этот признак."
   ]
  },
  {
   "cell_type": "code",
   "execution_count": 16,
   "id": "b09a4b5c",
   "metadata": {},
   "outputs": [
    {
     "data": {
      "text/plain": [
       "100.0    380062\n",
       "Name: smart_192_normalized, dtype: int64"
      ]
     },
     "execution_count": 16,
     "metadata": {},
     "output_type": "execute_result"
    }
   ],
   "source": [
    "df_bb_normalized['smart_192_normalized'].value_counts()"
   ]
  },
  {
   "cell_type": "markdown",
   "id": "814b4dbb",
   "metadata": {},
   "source": [
    "Все наблюдения имеют значение признака smart_192_normalized = 100. Удалим этот признак."
   ]
  },
  {
   "cell_type": "code",
   "execution_count": 17,
   "id": "ba7c66ea",
   "metadata": {},
   "outputs": [
    {
     "data": {
      "text/plain": [
       "200.0    380062\n",
       "Name: smart_199_normalized, dtype: int64"
      ]
     },
     "execution_count": 17,
     "metadata": {},
     "output_type": "execute_result"
    }
   ],
   "source": [
    "df_bb_normalized['smart_199_normalized'].value_counts()"
   ]
  },
  {
   "cell_type": "markdown",
   "id": "64d02303",
   "metadata": {},
   "source": [
    "Все наблюдения имеют значение признака smart_199_normalized=200. Удалим этот признак."
   ]
  },
  {
   "cell_type": "code",
   "execution_count": 18,
   "id": "17a4ceac",
   "metadata": {},
   "outputs": [
    {
     "data": {
      "text/plain": [
       "100.0    380062\n",
       "Name: smart_240_normalized, dtype: int64"
      ]
     },
     "execution_count": 18,
     "metadata": {},
     "output_type": "execute_result"
    }
   ],
   "source": [
    "df_bb_normalized['smart_240_normalized'].value_counts()"
   ]
  },
  {
   "cell_type": "code",
   "execution_count": 19,
   "id": "c1b71185",
   "metadata": {},
   "outputs": [
    {
     "data": {
      "text/plain": [
       "100.0    380062\n",
       "Name: smart_241_normalized, dtype: int64"
      ]
     },
     "execution_count": 19,
     "metadata": {},
     "output_type": "execute_result"
    }
   ],
   "source": [
    "df_bb_normalized['smart_241_normalized'].value_counts()"
   ]
  },
  {
   "cell_type": "code",
   "execution_count": 20,
   "id": "678ff3b0",
   "metadata": {},
   "outputs": [
    {
     "data": {
      "text/plain": [
       "100.0    380062\n",
       "Name: smart_242_normalized, dtype: int64"
      ]
     },
     "execution_count": 20,
     "metadata": {},
     "output_type": "execute_result"
    }
   ],
   "source": [
    "df_bb_normalized['smart_242_normalized'].value_counts()"
   ]
  },
  {
   "cell_type": "markdown",
   "id": "f7381948",
   "metadata": {},
   "source": [
    "Рассмотренные выше признаки аналогично нужно удалить."
   ]
  },
  {
   "cell_type": "code",
   "execution_count": 21,
   "id": "488b7ea6",
   "metadata": {},
   "outputs": [],
   "source": [
    "features_to_drop = ['capacity_bytes', 'smart_10_normalized', 'smart_188_normalized', 'smart_191_normalized', 'smart_192_normalized',\n",
    "                   'smart_199_normalized', 'smart_240_normalized', 'smart_241_normalized', 'smart_242_normalized']\n",
    "\n",
    "string_columns = ['serial_number', 'date', 'model']"
   ]
  },
  {
   "cell_type": "code",
   "execution_count": 22,
   "id": "75a01c26",
   "metadata": {},
   "outputs": [
    {
     "data": {
      "text/plain": [
       "(380078, 17)"
      ]
     },
     "execution_count": 22,
     "metadata": {},
     "output_type": "execute_result"
    }
   ],
   "source": [
    "df_bb_normalized = df_bb_normalized.drop(features_to_drop, axis=1)\n",
    "df_bb_normalized = df_bb_normalized.drop(string_columns, axis=1)\n",
    "\n",
    "df_bb_normalized.shape"
   ]
  },
  {
   "cell_type": "markdown",
   "id": "94bc6715",
   "metadata": {},
   "source": [
    "В результате чистки осталось 18 признаков."
   ]
  },
  {
   "cell_type": "markdown",
   "id": "9ccf5dfb",
   "metadata": {},
   "source": [
    "Посмотрим на корелляции признаков."
   ]
  },
  {
   "cell_type": "code",
   "execution_count": 23,
   "id": "918ea4df",
   "metadata": {},
   "outputs": [
    {
     "data": {
      "image/png": "[encoded data removed]",
      "text/plain": [
       "<Figure size 1300x1000 with 2 Axes>"
      ]
     },
     "metadata": {},
     "output_type": "display_data"
    }
   ],
   "source": [
    "import numpy as np\n",
    "import pandas as pd\n",
    "import matplotlib.pyplot as plt\n",
    "import seaborn as sns\n",
    "\n",
    "#df_bb_numeric = df_bb_normalized.drop(columns=string_columns, axis=1)\n",
    "\n",
    "corr = df_bb_normalized.corr()\n",
    "#Plot figsize\n",
    "fig, ax = plt.subplots(figsize=(13, 10))\n",
    "#Generate Heat Map, allow annotations and place floats in map\n",
    "sns.heatmap(corr, annot=True, fmt=\".2f\")\n",
    "#Apply xticks\n",
    "plt.xticks(range(len(corr.columns)), corr.columns);\n",
    "#Apply yticks\n",
    "plt.yticks(range(len(corr.columns)), corr.columns)\n",
    "#show plot\n",
    "plt.show()"
   ]
  },
  {
   "cell_type": "markdown",
   "id": "92fa306c",
   "metadata": {},
   "source": [
    "Из графика видно, что очень высокую корелляцию имеют признаки smart_194_normalized и smart_190_normalized. Такое значение корелляции кажется логичным, так как, исходя из [описания](https://ru.wikipedia.org/wiki/S.M.A.R.T.):\n",
    "- 190 --- Температура воздуха внутри корпуса жёсткого диска. Для дисков Seagate рассчитывается по формуле 100-HDA temperature. Для дисков Western Digital — 125-HDA.\n",
    "- 194 --- Здесь хранятся показания встроенного термодатчика для механической части диска — «банки» (HDA — Head and Disk Assembly). Информация снимается со встроенного термодатчика, которым служит одна из магнитных головок — обычно нижняя в банке. В битовых полях атрибута фиксируются текущая, минимальная и максимальная температура. Не все программы, работающие со SMART, правильно разбирают эти поля, так что к их показаниям стоит относиться критически.\n",
    "\n",
    "Поэтому можем удалить какой-либо из этих двух признаков. Удалим 190."
   ]
  },
  {
   "cell_type": "code",
   "execution_count": 24,
   "id": "9f957a72",
   "metadata": {},
   "outputs": [],
   "source": [
    "df_bb_normalized = df_bb_normalized.drop(['smart_190_normalized'], axis=1)"
   ]
  },
  {
   "cell_type": "code",
   "execution_count": 25,
   "id": "17dedc81",
   "metadata": {},
   "outputs": [
    {
     "data": {
      "text/html": [
       "<div>\n",
       "<style scoped>\n",
       "    .dataframe tbody tr th:only-of-type {\n",
       "        vertical-align: middle;\n",
       "    }\n",
       "\n",
       "    .dataframe tbody tr th {\n",
       "        vertical-align: top;\n",
       "    }\n",
       "\n",
       "    .dataframe thead th {\n",
       "        text-align: right;\n",
       "    }\n",
       "</style>\n",
       "<table border=\"1\" class=\"dataframe\">\n",
       "  <thead>\n",
       "    <tr style=\"text-align: right;\">\n",
       "      <th></th>\n",
       "      <th>failure</th>\n",
       "      <th>smart_1_normalized</th>\n",
       "      <th>smart_3_normalized</th>\n",
       "      <th>smart_4_normalized</th>\n",
       "      <th>smart_5_normalized</th>\n",
       "      <th>smart_7_normalized</th>\n",
       "      <th>smart_9_normalized</th>\n",
       "      <th>smart_12_normalized</th>\n",
       "      <th>smart_183_normalized</th>\n",
       "      <th>smart_184_normalized</th>\n",
       "      <th>smart_187_normalized</th>\n",
       "      <th>smart_189_normalized</th>\n",
       "      <th>smart_193_normalized</th>\n",
       "      <th>smart_194_normalized</th>\n",
       "      <th>smart_197_normalized</th>\n",
       "      <th>smart_198_normalized</th>\n",
       "    </tr>\n",
       "  </thead>\n",
       "  <tbody>\n",
       "    <tr>\n",
       "      <th>0</th>\n",
       "      <td>0</td>\n",
       "      <td>115.0</td>\n",
       "      <td>96.0</td>\n",
       "      <td>100.0</td>\n",
       "      <td>100.0</td>\n",
       "      <td>89.0</td>\n",
       "      <td>62.0</td>\n",
       "      <td>100.0</td>\n",
       "      <td>100.0</td>\n",
       "      <td>100.0</td>\n",
       "      <td>100.0</td>\n",
       "      <td>98.0</td>\n",
       "      <td>98.0</td>\n",
       "      <td>30.0</td>\n",
       "      <td>100.0</td>\n",
       "      <td>100.0</td>\n",
       "    </tr>\n",
       "    <tr>\n",
       "      <th>1</th>\n",
       "      <td>1</td>\n",
       "      <td>111.0</td>\n",
       "      <td>92.0</td>\n",
       "      <td>100.0</td>\n",
       "      <td>100.0</td>\n",
       "      <td>81.0</td>\n",
       "      <td>58.0</td>\n",
       "      <td>100.0</td>\n",
       "      <td>100.0</td>\n",
       "      <td>100.0</td>\n",
       "      <td>100.0</td>\n",
       "      <td>97.0</td>\n",
       "      <td>70.0</td>\n",
       "      <td>24.0</td>\n",
       "      <td>100.0</td>\n",
       "      <td>100.0</td>\n",
       "    </tr>\n",
       "    <tr>\n",
       "      <th>2</th>\n",
       "      <td>0</td>\n",
       "      <td>119.0</td>\n",
       "      <td>94.0</td>\n",
       "      <td>100.0</td>\n",
       "      <td>100.0</td>\n",
       "      <td>90.0</td>\n",
       "      <td>77.0</td>\n",
       "      <td>100.0</td>\n",
       "      <td>100.0</td>\n",
       "      <td>100.0</td>\n",
       "      <td>100.0</td>\n",
       "      <td>100.0</td>\n",
       "      <td>90.0</td>\n",
       "      <td>31.0</td>\n",
       "      <td>100.0</td>\n",
       "      <td>100.0</td>\n",
       "    </tr>\n",
       "    <tr>\n",
       "      <th>3</th>\n",
       "      <td>1</td>\n",
       "      <td>111.0</td>\n",
       "      <td>92.0</td>\n",
       "      <td>100.0</td>\n",
       "      <td>100.0</td>\n",
       "      <td>85.0</td>\n",
       "      <td>68.0</td>\n",
       "      <td>100.0</td>\n",
       "      <td>100.0</td>\n",
       "      <td>100.0</td>\n",
       "      <td>100.0</td>\n",
       "      <td>90.0</td>\n",
       "      <td>95.0</td>\n",
       "      <td>23.0</td>\n",
       "      <td>100.0</td>\n",
       "      <td>100.0</td>\n",
       "    </tr>\n",
       "    <tr>\n",
       "      <th>4</th>\n",
       "      <td>0</td>\n",
       "      <td>117.0</td>\n",
       "      <td>92.0</td>\n",
       "      <td>100.0</td>\n",
       "      <td>100.0</td>\n",
       "      <td>90.0</td>\n",
       "      <td>78.0</td>\n",
       "      <td>100.0</td>\n",
       "      <td>100.0</td>\n",
       "      <td>100.0</td>\n",
       "      <td>100.0</td>\n",
       "      <td>100.0</td>\n",
       "      <td>95.0</td>\n",
       "      <td>36.0</td>\n",
       "      <td>100.0</td>\n",
       "      <td>100.0</td>\n",
       "    </tr>\n",
       "  </tbody>\n",
       "</table>\n",
       "</div>"
      ],
      "text/plain": [
       "   failure  smart_1_normalized  smart_3_normalized  smart_4_normalized  \\\n",
       "0        0               115.0                96.0               100.0   \n",
       "1        1               111.0                92.0               100.0   \n",
       "2        0               119.0                94.0               100.0   \n",
       "3        1               111.0                92.0               100.0   \n",
       "4        0               117.0                92.0               100.0   \n",
       "\n",
       "   smart_5_normalized  smart_7_normalized  smart_9_normalized  \\\n",
       "0               100.0                89.0                62.0   \n",
       "1               100.0                81.0                58.0   \n",
       "2               100.0                90.0                77.0   \n",
       "3               100.0                85.0                68.0   \n",
       "4               100.0                90.0                78.0   \n",
       "\n",
       "   smart_12_normalized  smart_183_normalized  smart_184_normalized  \\\n",
       "0                100.0                 100.0                 100.0   \n",
       "1                100.0                 100.0                 100.0   \n",
       "2                100.0                 100.0                 100.0   \n",
       "3                100.0                 100.0                 100.0   \n",
       "4                100.0                 100.0                 100.0   \n",
       "\n",
       "   smart_187_normalized  smart_189_normalized  smart_193_normalized  \\\n",
       "0                 100.0                  98.0                  98.0   \n",
       "1                 100.0                  97.0                  70.0   \n",
       "2                 100.0                 100.0                  90.0   \n",
       "3                 100.0                  90.0                  95.0   \n",
       "4                 100.0                 100.0                  95.0   \n",
       "\n",
       "   smart_194_normalized  smart_197_normalized  smart_198_normalized  \n",
       "0                  30.0                 100.0                 100.0  \n",
       "1                  24.0                 100.0                 100.0  \n",
       "2                  31.0                 100.0                 100.0  \n",
       "3                  23.0                 100.0                 100.0  \n",
       "4                  36.0                 100.0                 100.0  "
      ]
     },
     "execution_count": 25,
     "metadata": {},
     "output_type": "execute_result"
    }
   ],
   "source": [
    "df_bb_normalized.head()"
   ]
  },
  {
   "cell_type": "markdown",
   "id": "1e40a1da",
   "metadata": {},
   "source": [
    "#### Hypothesis check\n",
    "\n",
    "Разобьем данные."
   ]
  },
  {
   "cell_type": "code",
   "execution_count": 26,
   "id": "61156eb8",
   "metadata": {},
   "outputs": [
    {
     "name": "stdout",
     "output_type": "stream",
     "text": [
      "Shape of X_train:  (285058, 15)\n",
      "Shape of X_test:  (95020, 15)\n",
      "Shape of y_train:  (285058,)\n",
      "Shape of y_test (95020,)\n"
     ]
    }
   ],
   "source": [
    "from sklearn.model_selection import train_test_split\n",
    "\n",
    "X = df_bb_normalized.drop('failure', axis=1)\n",
    "y = df_bb_normalized['failure']\n",
    "X_train, X_test, y_train, y_test = train_test_split(X, y, test_size = 0.25, random_state = 42)\n",
    "print(\"Shape of X_train: \",X_train.shape)\n",
    "print(\"Shape of X_test: \", X_test.shape)\n",
    "print(\"Shape of y_train: \",y_train.shape)\n",
    "print(\"Shape of y_test\",y_test.shape)"
   ]
  },
  {
   "cell_type": "markdown",
   "id": "3dca7d92",
   "metadata": {},
   "source": [
    "Заполним пропущенные значения."
   ]
  },
  {
   "cell_type": "code",
   "execution_count": 27,
   "id": "c1951cf3",
   "metadata": {},
   "outputs": [
    {
     "data": {
      "text/plain": [
       "smart_1_normalized      0\n",
       "smart_3_normalized      0\n",
       "smart_4_normalized      0\n",
       "smart_5_normalized      0\n",
       "smart_7_normalized      0\n",
       "smart_9_normalized      0\n",
       "smart_12_normalized     0\n",
       "smart_183_normalized    0\n",
       "smart_184_normalized    0\n",
       "smart_187_normalized    0\n",
       "smart_189_normalized    0\n",
       "smart_193_normalized    0\n",
       "smart_194_normalized    0\n",
       "smart_197_normalized    0\n",
       "smart_198_normalized    0\n",
       "dtype: int64"
      ]
     },
     "execution_count": 27,
     "metadata": {},
     "output_type": "execute_result"
    }
   ],
   "source": [
    "numeric_data = X_train.select_dtypes([np.number])\n",
    "numeric_mean = numeric_data.mean()\n",
    "numeric_features = numeric_data.columns\n",
    "\n",
    "X_train = X_train.fillna(numeric_mean)\n",
    "X_test = X_test.fillna(numeric_mean)\n",
    "\n",
    "X_train.isnull().sum()\n",
    "X_test.isnull().sum()"
   ]
  },
  {
   "cell_type": "markdown",
   "id": "b3905b1c",
   "metadata": {},
   "source": [
    "#### Applying SVM (using all parameters)"
   ]
  },
  {
   "cell_type": "markdown",
   "id": "3ab9364b",
   "metadata": {},
   "source": [
    "В качестве начального эксперимента обучим модель с использованием логистической регрессии, взяв все параметры SMART, которые получились в результате чистки."
   ]
  },
  {
   "cell_type": "code",
   "execution_count": 28,
   "id": "af480c52",
   "metadata": {},
   "outputs": [
    {
     "data": {
      "text/html": [
       "<style>#sk-container-id-1 {color: black;background-color: white;}#sk-container-id-1 pre{padding: 0;}#sk-container-id-1 div.sk-toggleable {background-color: white;}#sk-container-id-1 label.sk-toggleable__label {cursor: pointer;display: block;width: 100%;margin-bottom: 0;padding: 0.3em;box-sizing: border-box;text-align: center;}#sk-container-id-1 label.sk-toggleable__label-arrow:before {content: \"▸\";float: left;margin-right: 0.25em;color: #696969;}#sk-container-id-1 label.sk-toggleable__label-arrow:hover:before {color: black;}#sk-container-id-1 div.sk-estimator:hover label.sk-toggleable__label-arrow:before {color: black;}#sk-container-id-1 div.sk-toggleable__content {max-height: 0;max-width: 0;overflow: hidden;text-align: left;background-color: #f0f8ff;}#sk-container-id-1 div.sk-toggleable__content pre {margin: 0.2em;color: black;border-radius: 0.25em;background-color: #f0f8ff;}#sk-container-id-1 input.sk-toggleable__control:checked~div.sk-toggleable__content {max-height: 200px;max-width: 100%;overflow: auto;}#sk-container-id-1 input.sk-toggleable__control:checked~label.sk-toggleable__label-arrow:before {content: \"▾\";}#sk-container-id-1 div.sk-estimator input.sk-toggleable__control:checked~label.sk-toggleable__label {background-color: #d4ebff;}#sk-container-id-1 div.sk-label input.sk-toggleable__control:checked~label.sk-toggleable__label {background-color: #d4ebff;}#sk-container-id-1 input.sk-hidden--visually {border: 0;clip: rect(1px 1px 1px 1px);clip: rect(1px, 1px, 1px, 1px);height: 1px;margin: -1px;overflow: hidden;padding: 0;position: absolute;width: 1px;}#sk-container-id-1 div.sk-estimator {font-family: monospace;background-color: #f0f8ff;border: 1px dotted black;border-radius: 0.25em;box-sizing: border-box;margin-bottom: 0.5em;}#sk-container-id-1 div.sk-estimator:hover {background-color: #d4ebff;}#sk-container-id-1 div.sk-parallel-item::after {content: \"\";width: 100%;border-bottom: 1px solid gray;flex-grow: 1;}#sk-container-id-1 div.sk-label:hover label.sk-toggleable__label {background-color: #d4ebff;}#sk-container-id-1 div.sk-serial::before {content: \"\";position: absolute;border-left: 1px solid gray;box-sizing: border-box;top: 0;bottom: 0;left: 50%;z-index: 0;}#sk-container-id-1 div.sk-serial {display: flex;flex-direction: column;align-items: center;background-color: white;padding-right: 0.2em;padding-left: 0.2em;position: relative;}#sk-container-id-1 div.sk-item {position: relative;z-index: 1;}#sk-container-id-1 div.sk-parallel {display: flex;align-items: stretch;justify-content: center;background-color: white;position: relative;}#sk-container-id-1 div.sk-item::before, #sk-container-id-1 div.sk-parallel-item::before {content: \"\";position: absolute;border-left: 1px solid gray;box-sizing: border-box;top: 0;bottom: 0;left: 50%;z-index: -1;}#sk-container-id-1 div.sk-parallel-item {display: flex;flex-direction: column;z-index: 1;position: relative;background-color: white;}#sk-container-id-1 div.sk-parallel-item:first-child::after {align-self: flex-end;width: 50%;}#sk-container-id-1 div.sk-parallel-item:last-child::after {align-self: flex-start;width: 50%;}#sk-container-id-1 div.sk-parallel-item:only-child::after {width: 0;}#sk-container-id-1 div.sk-dashed-wrapped {border: 1px dashed gray;margin: 0 0.4em 0.5em 0.4em;box-sizing: border-box;padding-bottom: 0.4em;background-color: white;}#sk-container-id-1 div.sk-label label {font-family: monospace;font-weight: bold;display: inline-block;line-height: 1.2em;}#sk-container-id-1 div.sk-label-container {text-align: center;}#sk-container-id-1 div.sk-container {/* jupyter's `normalize.less` sets `[hidden] { display: none; }` but bootstrap.min.css set `[hidden] { display: none !important; }` so we also need the `!important` here to be able to override the default hidden behavior on the sphinx rendered scikit-learn.org. See: https://github.com/scikit-learn/scikit-learn/issues/21755 */display: inline-block !important;position: relative;}#sk-container-id-1 div.sk-text-repr-fallback {display: none;}</style><div id=\"sk-container-id-1\" class=\"sk-top-container\"><div class=\"sk-text-repr-fallback\"><pre>SVC(max_iter=400000, random_state=42)</pre><b>In a Jupyter environment, please rerun this cell to show the HTML representation or trust the notebook. <br />On GitHub, the HTML representation is unable to render, please try loading this page with nbviewer.org.</b></div><div class=\"sk-container\" hidden><div class=\"sk-item\"><div class=\"sk-estimator sk-toggleable\"><input class=\"sk-toggleable__control sk-hidden--visually\" id=\"sk-estimator-id-1\" type=\"checkbox\" checked><label for=\"sk-estimator-id-1\" class=\"sk-toggleable__label sk-toggleable__label-arrow\">SVC</label><div class=\"sk-toggleable__content\"><pre>SVC(max_iter=400000, random_state=42)</pre></div></div></div></div></div>"
      ],
      "text/plain": [
       "SVC(max_iter=400000, random_state=42)"
      ]
     },
     "execution_count": 28,
     "metadata": {},
     "output_type": "execute_result"
    }
   ],
   "source": [
    "from sklearn.model_selection import GridSearchCV\n",
    "from sklearn.svm import SVC\n",
    "\n",
    "parameters = { 'kernel' : ['linear'],\n",
    "               'C' : [1,10,100,1000,10000],\n",
    "               'random_state' : [42]\n",
    "}\n",
    "#model = GridSearchCV(SVC(random_state=42, max_iter=100000), parameters, scoring='roc_auc', cv = 3)\n",
    "model = SVC(random_state=42, max_iter=400000)\n",
    "model.fit(X_train, y_train)"
   ]
  },
  {
   "cell_type": "markdown",
   "id": "7ddaf586",
   "metadata": {},
   "source": [
    "Посчитаем получившуюся точность на тренировочных и тестовых данных с использованием метрики AUC ROC. Рассмотрим значения confusion matrix для получившейся модели."
   ]
  },
  {
   "cell_type": "code",
   "execution_count": 29,
   "id": "e99422e1",
   "metadata": {},
   "outputs": [
    {
     "name": "stdout",
     "output_type": "stream",
     "text": [
      "Training set using ovo classifier:  0.9674662700222411\n",
      "Test set using ovo classifier:  0.9666070300989266\n"
     ]
    },
    {
     "data": {
      "image/png": "[encoded data removed]",
      "text/plain": [
       "<Figure size 640x480 with 2 Axes>"
      ]
     },
     "metadata": {},
     "output_type": "display_data"
    }
   ],
   "source": [
    "from sklearn.metrics import accuracy_score\n",
    "from sklearn.metrics import confusion_matrix\n",
    "\n",
    "y_pred_lr_train = model.predict(X_train)\n",
    "accuracy_lr_train_ovo = accuracy_score(y_train, y_pred_lr_train)\n",
    "print(\"Training set using ovo classifier: \", accuracy_lr_train_ovo)#, \" time for training: \", training_time_lr_ovo)\n",
    "\n",
    "y_pred_lr_test = model.predict(X_test)\n",
    "accuracy_lr_test_ovo = accuracy_score(y_test, y_pred_lr_test)\n",
    "print(\"Test set using ovo classifier: \", accuracy_lr_test_ovo)\n",
    "sns.heatmap(confusion_matrix(y_test, y_pred_lr_test), annot=True, fmt='.0f')\n",
    "plt.show()"
   ]
  },
  {
   "cell_type": "code",
   "execution_count": 30,
   "id": "e0ff48d9",
   "metadata": {},
   "outputs": [
    {
     "data": {
      "text/plain": [
       "0    91813\n",
       "1     3207\n",
       "Name: failure, dtype: int64"
      ]
     },
     "execution_count": 30,
     "metadata": {},
     "output_type": "execute_result"
    }
   ],
   "source": [
    "y_test.value_counts()"
   ]
  },
  {
   "cell_type": "markdown",
   "id": "a2c09b8e",
   "metadata": {},
   "source": [
    "#### Applying SVM on 5 critical parameters\n",
    "У нас есть следующие параметры, cогласно [описанию](https://ru.wikipedia.org/wiki/S.M.A.R.T.) некоторые из них критически влияют на возникновение отказа диска:\n",
    "- smart_1_normalized      \n",
    "- smart_3_normalized      \n",
    "- smart_4_normalized      \n",
    "- smart_5_normalized:      critical\n",
    "- smart_7_normalized      \n",
    "- smart_9_normalized      \n",
    "- smart_12_normalized     \n",
    "- smart_183_normalized    \n",
    "- smart_184_normalized:    critical\n",
    "- smart_187_normalized:    critical\n",
    "- smart_189_normalized    \n",
    "- smart_193_normalized    \n",
    "- smart_194_normalized    \n",
    "- smart_197_normalized:    critical\n",
    "- smart_198_normalized:    critical\n",
    "\n",
    "Возьмем для обучения модели с использованием SVM только критические параметры."
   ]
  },
  {
   "cell_type": "code",
   "execution_count": 31,
   "id": "c860e0cc",
   "metadata": {},
   "outputs": [
    {
     "name": "stdout",
     "output_type": "stream",
     "text": [
      "Shape of X_train:  (285058, 5)\n",
      "Shape of X_test:  (95020, 5)\n",
      "Shape of y_train:  (285058,)\n",
      "Shape of y_test (95020,)\n"
     ]
    }
   ],
   "source": [
    "X =  df_bb_normalized[['smart_5_normalized', 'smart_184_normalized',\n",
    "                                             'smart_187_normalized','smart_197_normalized', 'smart_198_normalized']]\n",
    "y = df_bb_normalized['failure']\n",
    "X_train, X_test, y_train, y_test = train_test_split(X, y, test_size = 0.25, random_state = 42)\n",
    "print(\"Shape of X_train: \",X_train.shape)\n",
    "print(\"Shape of X_test: \", X_test.shape)\n",
    "print(\"Shape of y_train: \",y_train.shape)\n",
    "print(\"Shape of y_test\",y_test.shape)"
   ]
  },
  {
   "cell_type": "code",
   "execution_count": 32,
   "id": "ab0059f4",
   "metadata": {},
   "outputs": [
    {
     "data": {
      "text/plain": [
       "smart_5_normalized      0\n",
       "smart_184_normalized    0\n",
       "smart_187_normalized    0\n",
       "smart_197_normalized    0\n",
       "smart_198_normalized    0\n",
       "dtype: int64"
      ]
     },
     "execution_count": 32,
     "metadata": {},
     "output_type": "execute_result"
    }
   ],
   "source": [
    "numeric_data = X_train.select_dtypes([np.number])\n",
    "numeric_mean = numeric_data.mean()\n",
    "numeric_features = numeric_data.columns\n",
    "\n",
    "X_train = X_train.fillna(numeric_mean)\n",
    "X_test = X_test.fillna(numeric_mean)\n",
    "\n",
    "X_train.isnull().sum()\n",
    "X_test.isnull().sum()"
   ]
  },
  {
   "cell_type": "code",
   "execution_count": 33,
   "id": "c1ae8f18",
   "metadata": {},
   "outputs": [
    {
     "name": "stdout",
     "output_type": "stream",
     "text": [
      "21:46:44\n",
      "21:48:54\n"
     ]
    }
   ],
   "source": [
    "import time\n",
    "\n",
    "t = time.localtime()\n",
    "current_time = time.strftime(\"%H:%M:%S\", t)\n",
    "print(current_time)\n",
    "model = SVC(random_state=42)\n",
    "model.fit(X_train, y_train)\n",
    "t = time.localtime()\n",
    "current_time = time.strftime(\"%H:%M:%S\", t)\n",
    "print(current_time)"
   ]
  },
  {
   "cell_type": "code",
   "execution_count": 35,
   "id": "f497b35e",
   "metadata": {},
   "outputs": [
    {
     "name": "stdout",
     "output_type": "stream",
     "text": [
      "Training set using ovo classifier:  0.9703218292417684\n",
      "Test set using ovo classifier:  0.9697011155546201\n"
     ]
    },
    {
     "data": {
      "image/png": "[encoded data removed]",
      "text/plain": [
       "<Figure size 640x480 with 2 Axes>"
      ]
     },
     "metadata": {},
     "output_type": "display_data"
    }
   ],
   "source": [
    "from sklearn.metrics import accuracy_score\n",
    "from sklearn.metrics import confusion_matrix\n",
    "\n",
    "y_pred_train = model.predict(X_train)\n",
    "accuracy_train = accuracy_score(y_train, y_pred_train)\n",
    "print(\"Training set using ovo classifier: \", accuracy_train)\n",
    "\n",
    "y_pred_test = model.predict(X_test)\n",
    "accuracy_test = accuracy_score(y_test, y_pred_test)\n",
    "print(\"Test set using ovo classifier: \", accuracy_test)\n",
    "sns.heatmap(confusion_matrix(y_test, y_pred_test), annot=True, fmt='.0f')\n",
    "plt.show()"
   ]
  },
  {
   "cell_type": "code",
   "execution_count": null,
   "id": "d60e5822",
   "metadata": {},
   "outputs": [],
   "source": []
  }
 ],
 "metadata": {
  "kernelspec": {
   "display_name": "Python 3 (ipykernel)",
   "language": "python",
   "name": "python3"
  },
  "language_info": {
   "codemirror_mode": {
    "name": "ipython",
    "version": 3
   },
   "file_extension": ".py",
   "mimetype": "text/x-python",
   "name": "python",
   "nbconvert_exporter": "python",
   "pygments_lexer": "ipython3",
   "version": "3.10.8"
  }
 },
 "nbformat": 4,
 "nbformat_minor": 5
}
