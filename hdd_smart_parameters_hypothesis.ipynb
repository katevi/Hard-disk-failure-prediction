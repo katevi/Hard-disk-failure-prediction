{
 "cells": [
  {
   "cell_type": "markdown",
   "id": "61629228",
   "metadata": {},
   "source": [
    "## Sets of features used in the papers"
   ]
  },
  {
   "cell_type": "markdown",
   "id": "6884e12a",
   "metadata": {},
   "source": [
    "### Machine Learning Methods for Predicting Failures in Hard Drives: A Multiple-Instance Application (University of California dataset)"
   ]
  },
  {
   "cell_type": "markdown",
   "id": "e2dd2026",
   "metadata": {},
   "source": [
    " Attributes in the set of 25 are: GList1, PList, Servo1, Servo2, Servo3, Servo5, ReadError1, ReadError2, ReadError3,\n",
    "FlyHeight5, FlyHeight6, FlyHeight7, FlyHeight8, FlyHeight9, FlyHeight10, FlyHeight11, FlyHeight12, ReadEr-\n",
    "ror18, ReadError19, Servo7, Servo8, ReadError20, GList2, GList3, Servo10.\n",
    "\n",
    "Single attribute tests using rank-sum were run on all 25 attributes selected in Section 3.3 with 15 samples per pattern. Of these 25, only 8 attributes (Figure 9) were able to detect failures at sufficiently low false alarm rates: ReadError1, ReadError2, ReadError3, ReadError18, ReadError19, Servo7, GList3 and Servo10. Confirming the observations of the feature selection process, ReadError18 was the best attribute, with 27.6% detection at 0.06% false alarms.\n",
    "\n",
    "Using combinations of attributes in the rank-sum test can lead to improved results over single-attribute classifiers (Figure 11). The best single attributes from Figure 9 were ReadError1, ReadError3, ReadError18 and ReadError19. Using these four attributes and 15 samples per pattern, the rank-sum test detected 28.1% of the failures, with no measured false alarms. Higher detection rates (52.8%) can be had if more false alarms are allowed (0.7%). \n"
   ]
  },
  {
   "cell_type": "markdown",
   "id": "3158fc8c",
   "metadata": {},
   "source": [
    "### Bayesian Approaches to Failure prediction for Disk Drives (Quantum dataset)"
   ]
  },
  {
   "cell_type": "markdown",
   "id": "96e705ff",
   "metadata": {},
   "source": [
    "|Abbreviation | Description|\n",
    "|---|---|\n",
    "| RET | read error rate |\n",
    "| SUT | spinup time |\n",
    "| CSS | start-stop count |\n",
    "| GDC | grown defects count |\n",
    "| SKE | seek errors count |\n",
    "| POH | power-on hours |\n",
    "| RRT | calibration retries |\n",
    "| PCC | power cycles count |\n",
    "| RSE | read soft errors count |\n",
    "| DMC | CRC errors count |\n",
    "| OSS | offline surface scan |\n"
   ]
  },
  {
   "cell_type": "markdown",
   "id": "622ccc36",
   "metadata": {},
   "source": [
    "### Health Monitoring of Hard Disk Drive Based on Mahalanobis Distance\n"
   ]
  },
  {
   "cell_type": "markdown",
   "id": "4ef5c1ac",
   "metadata": {},
   "source": [
    "**Most of the works used all of the data without selection or select the data with maximum distance between healthy drive and failed drives**. It is actually a supervised methodology based on the prior knowledge from which the drive's health status can be known.\n",
    "\n",
    "#### FMMEA method applying\n",
    "\n",
    "\n",
    "1. Potential failure mechanisms \n",
    "are determined by available mechanisms corresponding to the physical, electrical, chemical and mechanical stresses which can induce the failure. It is found that 60% of drives failures are mechanical, often resulting from the gradual degradation of the drive's performance. \n",
    "In HDD they are:\n",
    "- Head disk interface (HDI, including head and disk, also known as air bearing): Crack on head, broken head, head contamination, bad connection to electronics module; disk\n",
    "scratches, defect, bad servo pattern, flying height variation and modulation.\n",
    "- Head stack assembly: off-track, deformation.\n",
    "- Motors/bearings: motor failure, worn bearing, excessive run out, no spin.\n",
    "- Electronic module: circuit/chip failure, bad connection to drive or bus.\n",
    "\n",
    "2. Prioritization of Potential Failure Mechanisms\n",
    "\n",
    "- head disk interface as the dominant contributor to HDD reliability \n",
    "- the wear out, overstress of magnetic head and disk, and resonancehead assembly are categorized as potential failure mechanisms with high risk\n",
    "- spindle motor and control board have a failure mode in low priorities. \n",
    "\n",
    "\n",
    "**Corresponsdence between attributes and failure mechanisms**:\n",
    "- head flying height, data throughput performance, read/write errors, re-allocated sector count and drive calibration retries count can be recognized as HDI failure indicators. \n",
    "-  Seek error rate and seek time performance can be mainly attributed to head assembly issue.\n",
    "- The servo error count is a special case which can be induced by any component failures in the whole servo loop. Changes in spin up time and increases in drive temperature can reflect problems with spindle motor.\n",
    "- It is notable that a study published by Google suggested **very little correlation between failure rates and high temperature** based on 100,000 drives data [40]\n",
    "\n",
    "\n",
    "**In this study, the HDI and head assembly performance attributes are selected as candidates to assess the health ofHDD.**\n"
   ]
  },
  {
   "cell_type": "markdown",
   "id": "43fd58a8",
   "metadata": {},
   "source": [
    "Typical characteristics of SMART are:\n",
    "- Head flying height -- is the distance between the disk read/write head on a hard disk drive and the platter. Fly height variation can cause the media being insufficiently magnetized and the data are not readable. The physically bumping or banging during the HDD reading or writing process leading the head with strong vibration, which can induce the read/write failure. \n",
    "- Data throughput performance -- General throughput performance of the hard disk. Indicate problem with motor, servo or bearings.\n",
    "- Spin up time -- S.M.A.R.T. parameter indicates an average time (in milliseconds or seconds) of spindle spinup (from zero RPM (Revolutions Per Minute) to fully operational). The low value means it takes too long for the hard disk to a fully operational state.\n",
    "- Re-allocated sector count -- is the number of sectors that are marked as reallocated by the hard drive upon an error. A growing count is generally considered a bad sign and can result in hard drive failure.\n",
    "- Seek error rate -- \tRate of positioning errors of the read/write heads. Indicate problem with servo, head. High temperature can also cause this problem.\n",
    "- Seek time performance --  the average performance of seek operations of the hard disk’s magnetic heads.\n",
    "- Spin try recount -- Retry count of spin start attempts. Indicate problem with motor, bearings or power supply.\n",
    "- Drive calibration retries count -- Number of attempts to calibrate a drive. Indicate problem with motor, bearings or power supply.\n",
    "\n",
    "\n",
    "\n",
    "Here is the full [list](hdsentinel.com/smart/smartattr.php) of SMART parameters descriptions. "
   ]
  },
  {
   "cell_type": "markdown",
   "id": "c78cbf3d",
   "metadata": {},
   "source": [
    "### HMM, HSMM\n",
    "\n",
    "We then run our HMM and HSMM predictors and found four attributes provided good failure detection, namely, ReadError18, Servo2, Servo10, and FlyHeight7."
   ]
  },
  {
   "cell_type": "markdown",
   "id": "70b72600",
   "metadata": {},
   "source": [
    "### Autoencoders (Backblaze dataset)"
   ]
  },
  {
   "cell_type": "markdown",
   "id": "a1a823a5",
   "metadata": {},
   "source": [
    "SMART attributes used in the experiments:\n",
    "\n",
    "| SMART ID | Attribute Name |\n",
    "| --- | --- |\n",
    "| 1 | Read Error Rate |\n",
    "| 3 | Spin up time |\n",
    "| 4 | start stop count |\n",
    "| 5 | Reallocated sectors count| \n",
    "| 7 | Seek error rate |\n",
    "| 9 | Power on hours |\n",
    "| 10 | Spin retry count |\n",
    "| 12 | Power cycle count |\n",
    "| 183 | sata downshift error count |\n",
    "| 184 | End-to-End error / IOEDC | \n",
    "| 187 | Reported Uncorrectable Errors |\n",
    "|188 | Command Timeout | \n",
    "| 189 | High Fly Writes |\n",
    "| 190 | Temperature Difference |\n",
    "| 191 | G-sense Error Rate |\n",
    "| 192 | Unsafe Shutdown Count |\n",
    "| 193 | Load Cycle Count | \n",
    "| 194 | Temperature |\n",
    "| 197 | Current Pending Sector Count |\n",
    "| 198 | Uncorrectable Sector Count |\n",
    "| 199 | UltraDMA CRC Error Count |\n",
    "| 240 | Head Flying Hours |\n",
    "| 241  | Total LBAs Written |\n",
    "| 242 | Total LBAs Read |\n",
    "\n",
    "\n",
    "\n",
    "For the PCA method, we performed the transformation and selected the eigenvectors that resulted in features that\n",
    "preserve 90% of the variance, resulting in 8 features out of the 24 described in Table I. For the Autoencoders, it was trained a neural network architecture with hidden layers of size (15-8-15) and a output layer of size 24 (the number of dimensions of the input), with the ReLU activation function and the backpropagation algorithm with L2 regularization.\n"
   ]
  }
 ],
 "metadata": {
  "kernelspec": {
   "display_name": "Python 3 (ipykernel)",
   "language": "python",
   "name": "python3"
  },
  "language_info": {
   "codemirror_mode": {
    "name": "ipython",
    "version": 3
   },
   "file_extension": ".py",
   "mimetype": "text/x-python",
   "name": "python",
   "nbconvert_exporter": "python",
   "pygments_lexer": "ipython3",
   "version": "3.10.8"
  }
 },
 "nbformat": 4,
 "nbformat_minor": 5
}
