{
 "cells": [
  {
   "cell_type": "markdown",
   "id": "0872d4a1",
   "metadata": {},
   "source": [
    "# Hard drive failure prediction for SAS disks\n",
    "\n",
    "Особый интерес для исследований представляют SAS диски, так как они используются в современных СХД и серверах. SAS диски представляют smart параметры, отличные от smart параметров SATA дисков (представленных в существующих статьях на тему прогнозирования отказов дисков).\n",
    "\n",
    "Пример SMART репорта SAS диска может быть найден [тут](https://hardforum.com/threads/seagate-sas-in-sm-jbod-lots-of-read-errors-anyone-else.1878472/) и [тут](http://sg.danny.cz/scsi/smartmontools_scsi.html).\n",
    "\n",
    "Документация к SMART параметрам SAS дисков:\n",
    "- [smartmontools scsi](https://www.smartmontools.org/browser/trunk/www/smartmontools_scsi.xml)\n",
    "- [scsi sas nvme does not provide SATA like attributes](https://www.smartmontools.org/wiki/FAQ#MySCSISASdriveisnotinthesmartctlsmartddatabase)\n",
    "\n"
   ]
  },
  {
   "cell_type": "markdown",
   "id": "04102dda",
   "metadata": {},
   "source": [
    "Примерное отображение SATA параметров в SAS:\n",
    "\n",
    "| SMART parameter for SATA | SATA SMART id | SMART parameter for SAS|\n",
    "| --- | --- | --- |\n",
    "| Power-on Time hours | 09  | Number of hours powered up| \n",
    "|(HDA) temperature | 194 | Current Drive Temperature | \n",
    "| Reallocated sectors count | 05 | Grown defects list |\n",
    "|Read error rate | 01 | Total uncorrected errors read (?) | \n",
    "|Write error rate | 200 | Uncorrected errors write + corrected errors write (?) |\n",
    "|Reported uncorrectable errors | 187 | Total uncorrected (sum?)|\n",
    "| Load / unload cycle count | 193 | Accumulated load / unload cycles |\n",
    "| Start / stop count | 04 | Accumulated start / stop cycles |\n",
    "| Hardware ECC recovered | 195 | ECC delayed / fast (?) |\n",
    "| Soft ECC correction | 204 | ECC delayed / fast (?) | \n",
    "\n",
    "Оставим только эти параметры для исследовавшегося ранее BackBlaze датасета SATA дисков. Возможно, выводы, основанные на таком датасете, могут пригодиться для датасета реальных SAS дисков."
   ]
  },
  {
   "cell_type": "markdown",
   "id": "e23671a7",
   "metadata": {},
   "source": [
    "## Investigating dataset with potential SAS disks parameters\n",
    "### Preliminary"
   ]
  },
  {
   "cell_type": "code",
   "execution_count": 73,
   "id": "b072c890",
   "metadata": {},
   "outputs": [
    {
     "data": {
      "text/html": [
       "<div>\n",
       "<style scoped>\n",
       "    .dataframe tbody tr th:only-of-type {\n",
       "        vertical-align: middle;\n",
       "    }\n",
       "\n",
       "    .dataframe tbody tr th {\n",
       "        vertical-align: top;\n",
       "    }\n",
       "\n",
       "    .dataframe thead th {\n",
       "        text-align: right;\n",
       "    }\n",
       "</style>\n",
       "<table border=\"1\" class=\"dataframe\">\n",
       "  <thead>\n",
       "    <tr style=\"text-align: right;\">\n",
       "      <th></th>\n",
       "      <th>date</th>\n",
       "      <th>serial_number</th>\n",
       "      <th>model</th>\n",
       "      <th>capacity_bytes</th>\n",
       "      <th>failure</th>\n",
       "      <th>smart_1_normalized</th>\n",
       "      <th>smart_1_raw</th>\n",
       "      <th>smart_2_normalized</th>\n",
       "      <th>smart_2_raw</th>\n",
       "      <th>smart_3_normalized</th>\n",
       "      <th>...</th>\n",
       "      <th>smart_250_normalized</th>\n",
       "      <th>smart_250_raw</th>\n",
       "      <th>smart_251_normalized</th>\n",
       "      <th>smart_251_raw</th>\n",
       "      <th>smart_252_normalized</th>\n",
       "      <th>smart_252_raw</th>\n",
       "      <th>smart_254_normalized</th>\n",
       "      <th>smart_254_raw</th>\n",
       "      <th>smart_255_normalized</th>\n",
       "      <th>smart_255_raw</th>\n",
       "    </tr>\n",
       "  </thead>\n",
       "  <tbody>\n",
       "    <tr>\n",
       "      <th>0</th>\n",
       "      <td>2018-01-01</td>\n",
       "      <td>Z3016TK2</td>\n",
       "      <td>ST4000DM000</td>\n",
       "      <td>4000787030016</td>\n",
       "      <td>0</td>\n",
       "      <td>115.0</td>\n",
       "      <td>87117728.0</td>\n",
       "      <td>NaN</td>\n",
       "      <td>NaN</td>\n",
       "      <td>96.0</td>\n",
       "      <td>...</td>\n",
       "      <td>NaN</td>\n",
       "      <td>NaN</td>\n",
       "      <td>NaN</td>\n",
       "      <td>NaN</td>\n",
       "      <td>NaN</td>\n",
       "      <td>NaN</td>\n",
       "      <td>NaN</td>\n",
       "      <td>NaN</td>\n",
       "      <td>NaN</td>\n",
       "      <td>NaN</td>\n",
       "    </tr>\n",
       "    <tr>\n",
       "      <th>1</th>\n",
       "      <td>2018-01-01</td>\n",
       "      <td>W300GLSS</td>\n",
       "      <td>ST4000DM000</td>\n",
       "      <td>4000787030016</td>\n",
       "      <td>1</td>\n",
       "      <td>111.0</td>\n",
       "      <td>40108520.0</td>\n",
       "      <td>NaN</td>\n",
       "      <td>NaN</td>\n",
       "      <td>92.0</td>\n",
       "      <td>...</td>\n",
       "      <td>NaN</td>\n",
       "      <td>NaN</td>\n",
       "      <td>NaN</td>\n",
       "      <td>NaN</td>\n",
       "      <td>NaN</td>\n",
       "      <td>NaN</td>\n",
       "      <td>NaN</td>\n",
       "      <td>NaN</td>\n",
       "      <td>NaN</td>\n",
       "      <td>NaN</td>\n",
       "    </tr>\n",
       "    <tr>\n",
       "      <th>2</th>\n",
       "      <td>2018-01-01</td>\n",
       "      <td>Z302SXQ0</td>\n",
       "      <td>ST4000DM000</td>\n",
       "      <td>4000787030016</td>\n",
       "      <td>0</td>\n",
       "      <td>119.0</td>\n",
       "      <td>208926768.0</td>\n",
       "      <td>NaN</td>\n",
       "      <td>NaN</td>\n",
       "      <td>94.0</td>\n",
       "      <td>...</td>\n",
       "      <td>NaN</td>\n",
       "      <td>NaN</td>\n",
       "      <td>NaN</td>\n",
       "      <td>NaN</td>\n",
       "      <td>NaN</td>\n",
       "      <td>NaN</td>\n",
       "      <td>NaN</td>\n",
       "      <td>NaN</td>\n",
       "      <td>NaN</td>\n",
       "      <td>NaN</td>\n",
       "    </tr>\n",
       "    <tr>\n",
       "      <th>3</th>\n",
       "      <td>2018-01-01</td>\n",
       "      <td>Z3025L3F</td>\n",
       "      <td>ST4000DM000</td>\n",
       "      <td>4000787030016</td>\n",
       "      <td>1</td>\n",
       "      <td>111.0</td>\n",
       "      <td>30947064.0</td>\n",
       "      <td>NaN</td>\n",
       "      <td>NaN</td>\n",
       "      <td>92.0</td>\n",
       "      <td>...</td>\n",
       "      <td>NaN</td>\n",
       "      <td>NaN</td>\n",
       "      <td>NaN</td>\n",
       "      <td>NaN</td>\n",
       "      <td>NaN</td>\n",
       "      <td>NaN</td>\n",
       "      <td>NaN</td>\n",
       "      <td>NaN</td>\n",
       "      <td>NaN</td>\n",
       "      <td>NaN</td>\n",
       "    </tr>\n",
       "    <tr>\n",
       "      <th>4</th>\n",
       "      <td>2018-01-01</td>\n",
       "      <td>Z302SW9C</td>\n",
       "      <td>ST4000DM000</td>\n",
       "      <td>4000787030016</td>\n",
       "      <td>0</td>\n",
       "      <td>117.0</td>\n",
       "      <td>137764288.0</td>\n",
       "      <td>NaN</td>\n",
       "      <td>NaN</td>\n",
       "      <td>92.0</td>\n",
       "      <td>...</td>\n",
       "      <td>NaN</td>\n",
       "      <td>NaN</td>\n",
       "      <td>NaN</td>\n",
       "      <td>NaN</td>\n",
       "      <td>NaN</td>\n",
       "      <td>NaN</td>\n",
       "      <td>NaN</td>\n",
       "      <td>NaN</td>\n",
       "      <td>NaN</td>\n",
       "      <td>NaN</td>\n",
       "    </tr>\n",
       "  </tbody>\n",
       "</table>\n",
       "<p>5 rows × 105 columns</p>\n",
       "</div>"
      ],
      "text/plain": [
       "         date serial_number        model  capacity_bytes  failure  \\\n",
       "0  2018-01-01      Z3016TK2  ST4000DM000   4000787030016        0   \n",
       "1  2018-01-01      W300GLSS  ST4000DM000   4000787030016        1   \n",
       "2  2018-01-01      Z302SXQ0  ST4000DM000   4000787030016        0   \n",
       "3  2018-01-01      Z3025L3F  ST4000DM000   4000787030016        1   \n",
       "4  2018-01-01      Z302SW9C  ST4000DM000   4000787030016        0   \n",
       "\n",
       "   smart_1_normalized  smart_1_raw  smart_2_normalized  smart_2_raw  \\\n",
       "0               115.0   87117728.0                 NaN          NaN   \n",
       "1               111.0   40108520.0                 NaN          NaN   \n",
       "2               119.0  208926768.0                 NaN          NaN   \n",
       "3               111.0   30947064.0                 NaN          NaN   \n",
       "4               117.0  137764288.0                 NaN          NaN   \n",
       "\n",
       "   smart_3_normalized  ...  smart_250_normalized  smart_250_raw  \\\n",
       "0                96.0  ...                   NaN            NaN   \n",
       "1                92.0  ...                   NaN            NaN   \n",
       "2                94.0  ...                   NaN            NaN   \n",
       "3                92.0  ...                   NaN            NaN   \n",
       "4                92.0  ...                   NaN            NaN   \n",
       "\n",
       "   smart_251_normalized  smart_251_raw  smart_252_normalized  smart_252_raw  \\\n",
       "0                   NaN            NaN                   NaN            NaN   \n",
       "1                   NaN            NaN                   NaN            NaN   \n",
       "2                   NaN            NaN                   NaN            NaN   \n",
       "3                   NaN            NaN                   NaN            NaN   \n",
       "4                   NaN            NaN                   NaN            NaN   \n",
       "\n",
       "   smart_254_normalized  smart_254_raw  smart_255_normalized  smart_255_raw  \n",
       "0                   NaN            NaN                   NaN            NaN  \n",
       "1                   NaN            NaN                   NaN            NaN  \n",
       "2                   NaN            NaN                   NaN            NaN  \n",
       "3                   NaN            NaN                   NaN            NaN  \n",
       "4                   NaN            NaN                   NaN            NaN  \n",
       "\n",
       "[5 rows x 105 columns]"
      ]
     },
     "execution_count": 73,
     "metadata": {},
     "output_type": "execute_result"
    }
   ],
   "source": [
    "import pandas as pd\n",
    "\n",
    "# Concatenating all datasets (one dataset per month 2017) to one\n",
    "##df_bb = pd.concat(map(pd.read_csv, glob.glob(\"./backblaze_ST4000DM000/*.csv\")))\n",
    "df_bb = pd.read_csv('./backblaze_ST4000DM000/model_2018_ST4000DM000.csv')\n",
    "df_bb.head()"
   ]
  },
  {
   "cell_type": "code",
   "execution_count": 74,
   "id": "1d4604ce",
   "metadata": {},
   "outputs": [
    {
     "data": {
      "text/plain": [
       "0    367482\n",
       "1     12596\n",
       "Name: failure, dtype: int64"
      ]
     },
     "execution_count": 74,
     "metadata": {},
     "output_type": "execute_result"
    }
   ],
   "source": [
    "df_bb['failure'].value_counts()"
   ]
  },
  {
   "cell_type": "code",
   "execution_count": 75,
   "id": "257fd58d",
   "metadata": {},
   "outputs": [
    {
     "name": "stdout",
     "output_type": "stream",
     "text": [
      "Dataset with normalized features values ['date' 'serial_number' 'model' 'capacity_bytes' 'failure'\n",
      " 'smart_1_normalized' 'smart_2_normalized' 'smart_3_normalized'\n",
      " 'smart_4_normalized' 'smart_5_normalized' 'smart_7_normalized'\n",
      " 'smart_8_normalized' 'smart_9_normalized' 'smart_10_normalized'\n",
      " 'smart_11_normalized' 'smart_12_normalized' 'smart_13_normalized'\n",
      " 'smart_15_normalized' 'smart_22_normalized' 'smart_177_normalized'\n",
      " 'smart_179_normalized' 'smart_181_normalized' 'smart_182_normalized'\n",
      " 'smart_183_normalized' 'smart_184_normalized' 'smart_187_normalized'\n",
      " 'smart_188_normalized' 'smart_189_normalized' 'smart_190_normalized'\n",
      " 'smart_191_normalized' 'smart_192_normalized' 'smart_193_normalized'\n",
      " 'smart_194_normalized' 'smart_195_normalized' 'smart_196_normalized'\n",
      " 'smart_197_normalized' 'smart_198_normalized' 'smart_199_normalized'\n",
      " 'smart_200_normalized' 'smart_201_normalized' 'smart_220_normalized'\n",
      " 'smart_222_normalized' 'smart_223_normalized' 'smart_224_normalized'\n",
      " 'smart_225_normalized' 'smart_226_normalized' 'smart_235_normalized'\n",
      " 'smart_240_normalized' 'smart_241_normalized' 'smart_242_normalized'\n",
      " 'smart_250_normalized' 'smart_251_normalized' 'smart_252_normalized'\n",
      " 'smart_254_normalized' 'smart_255_normalized']\n",
      "(380078, 55)\n"
     ]
    }
   ],
   "source": [
    "df_bb_normalized = df_bb[df_bb.columns.drop(list(df_bb.filter(regex='raw')))]\n",
    "feat_names_normalized = df_bb_normalized.columns.values\n",
    "print(\"Dataset with normalized features values\", feat_names_normalized)\n",
    "print(df_bb_normalized.shape)"
   ]
  },
  {
   "cell_type": "code",
   "execution_count": 76,
   "id": "6aeb9902",
   "metadata": {},
   "outputs": [
    {
     "data": {
      "text/plain": [
       "date                     0\n",
       "serial_number            0\n",
       "model                    0\n",
       "capacity_bytes           0\n",
       "failure                  0\n",
       "smart_1_normalized      16\n",
       "smart_3_normalized      16\n",
       "smart_4_normalized      16\n",
       "smart_5_normalized      16\n",
       "smart_7_normalized      16\n",
       "smart_9_normalized      16\n",
       "smart_10_normalized     16\n",
       "smart_12_normalized     16\n",
       "smart_183_normalized    16\n",
       "smart_184_normalized    16\n",
       "smart_187_normalized    16\n",
       "smart_188_normalized    16\n",
       "smart_189_normalized    16\n",
       "smart_190_normalized    16\n",
       "smart_191_normalized    16\n",
       "smart_192_normalized    16\n",
       "smart_193_normalized    16\n",
       "smart_194_normalized    16\n",
       "smart_197_normalized    16\n",
       "smart_198_normalized    16\n",
       "smart_199_normalized    16\n",
       "smart_240_normalized    16\n",
       "smart_241_normalized    16\n",
       "smart_242_normalized    16\n",
       "dtype: int64"
      ]
     },
     "execution_count": 76,
     "metadata": {},
     "output_type": "execute_result"
    }
   ],
   "source": [
    "columns_with_values = df_bb_normalized.columns[df_bb_normalized.isnull().sum() <= 100]\n",
    "df_bb_normalized = df_bb_normalized[columns_with_values]\n",
    "df_bb_normalized.isnull().sum()"
   ]
  },
  {
   "cell_type": "markdown",
   "id": "e076cde9",
   "metadata": {},
   "source": [
    "Нужны параметры: 1, 4, 5, 9, 187, 193, 194, 200"
   ]
  },
  {
   "cell_type": "code",
   "execution_count": 77,
   "id": "11e2db61",
   "metadata": {},
   "outputs": [],
   "source": [
    "sas_params = ['failure', 'smart_1_normalized', 'smart_4_normalized', 'smart_5_normalized', \n",
    "              'smart_9_normalized', 'smart_187_normalized', \n",
    "              'smart_193_normalized', 'smart_194_normalized'] #, 'smart_204_normalized', 'smart_195_normalized']\n",
    "df_bb_normalized = df_bb_normalized[sas_params]"
   ]
  },
  {
   "cell_type": "code",
   "execution_count": 78,
   "id": "9c52ee5a",
   "metadata": {},
   "outputs": [
    {
     "data": {
      "text/plain": [
       "failure                  0\n",
       "smart_1_normalized      16\n",
       "smart_4_normalized      16\n",
       "smart_5_normalized      16\n",
       "smart_9_normalized      16\n",
       "smart_187_normalized    16\n",
       "smart_193_normalized    16\n",
       "smart_194_normalized    16\n",
       "dtype: int64"
      ]
     },
     "execution_count": 78,
     "metadata": {},
     "output_type": "execute_result"
    }
   ],
   "source": [
    "df_bb_normalized.isnull().sum()"
   ]
  },
  {
   "cell_type": "code",
   "execution_count": 79,
   "id": "21512d04",
   "metadata": {},
   "outputs": [
    {
     "data": {
      "text/plain": [
       "(380078, 8)"
      ]
     },
     "execution_count": 79,
     "metadata": {},
     "output_type": "execute_result"
    }
   ],
   "source": [
    "df_bb_normalized.shape"
   ]
  },
  {
   "cell_type": "code",
   "execution_count": 80,
   "id": "4d2512c8",
   "metadata": {},
   "outputs": [
    {
     "data": {
      "text/plain": [
       "(380062, 8)"
      ]
     },
     "execution_count": 80,
     "metadata": {},
     "output_type": "execute_result"
    }
   ],
   "source": [
    "df_bb_normalized = df_bb_normalized.dropna()\n",
    "df_bb_normalized.shape"
   ]
  },
  {
   "cell_type": "code",
   "execution_count": 81,
   "id": "accbf2c4",
   "metadata": {},
   "outputs": [
    {
     "data": {
      "text/plain": [
       "failure                 0\n",
       "smart_1_normalized      0\n",
       "smart_4_normalized      0\n",
       "smart_5_normalized      0\n",
       "smart_9_normalized      0\n",
       "smart_187_normalized    0\n",
       "smart_193_normalized    0\n",
       "smart_194_normalized    0\n",
       "dtype: int64"
      ]
     },
     "execution_count": 81,
     "metadata": {},
     "output_type": "execute_result"
    }
   ],
   "source": [
    "df_bb_normalized.isnull().sum()"
   ]
  },
  {
   "cell_type": "markdown",
   "id": "7d298d59",
   "metadata": {},
   "source": [
    "### Splitting data"
   ]
  },
  {
   "cell_type": "code",
   "execution_count": 131,
   "id": "68d32884",
   "metadata": {},
   "outputs": [
    {
     "name": "stdout",
     "output_type": "stream",
     "text": [
      "Shape of X_train:  (285046, 7)\n",
      "Shape of X_test:  (95016, 7)\n",
      "Shape of y_train:  (285046,)\n",
      "Shape of y_test (95016,)\n"
     ]
    }
   ],
   "source": [
    "from sklearn.model_selection import train_test_split\n",
    "\n",
    "X = df_bb_normalized.drop('failure', axis=1)\n",
    "y = df_bb_normalized['failure']\n",
    "X_train, X_test, y_train, y_test = train_test_split(X, y, test_size = 0.25, random_state = 42)\n",
    "print(\"Shape of X_train: \",X_train.shape)\n",
    "print(\"Shape of X_test: \", X_test.shape)\n",
    "print(\"Shape of y_train: \",y_train.shape)\n",
    "print(\"Shape of y_test\",y_test.shape)"
   ]
  },
  {
   "cell_type": "markdown",
   "id": "961d83be",
   "metadata": {},
   "source": [
    "### Applying models"
   ]
  },
  {
   "cell_type": "code",
   "execution_count": 42,
   "id": "158a7002",
   "metadata": {},
   "outputs": [
    {
     "data": {
      "image/png": "[encoded data removed]",
      "text/plain": [
       "<Figure size 1300x1000 with 2 Axes>"
      ]
     },
     "metadata": {},
     "output_type": "display_data"
    }
   ],
   "source": [
    "import numpy as np\n",
    "import pandas as pd\n",
    "import matplotlib.pyplot as plt\n",
    "import seaborn as sns\n",
    "\n",
    "#df_bb_numeric = df_bb_normalized.drop(columns=string_columns, axis=1)\n",
    "\n",
    "corr = df_bb_normalized.corr()\n",
    "#Plot figsize\n",
    "fig, ax = plt.subplots(figsize=(13, 10))\n",
    "#Generate Heat Map, allow annotations and place floats in map\n",
    "sns.heatmap(corr, annot=True, fmt=\".2f\")\n",
    "#Apply xticks\n",
    "plt.xticks(range(len(corr.columns)), corr.columns);\n",
    "#Apply yticks\n",
    "plt.yticks(range(len(corr.columns)), corr.columns)\n",
    "#show plot\n",
    "plt.show()"
   ]
  },
  {
   "cell_type": "markdown",
   "id": "6e39bfd9",
   "metadata": {},
   "source": [
    "#### Applying RF"
   ]
  },
  {
   "cell_type": "code",
   "execution_count": 43,
   "id": "c4f534e8",
   "metadata": {},
   "outputs": [
    {
     "name": "stdout",
     "output_type": "stream",
     "text": [
      "18:53:00\n",
      "18:53:03\n"
     ]
    }
   ],
   "source": [
    "from sklearn.ensemble import RandomForestClassifier\n",
    "import time \n",
    "\n",
    "clf = RandomForestClassifier(n_estimators=10, random_state=42)\n",
    "\n",
    "t = time.localtime()\n",
    "current_time = time.strftime(\"%H:%M:%S\", t)\n",
    "print(current_time)\n",
    "clf.fit(X_train, y_train)\n",
    "print(time.strftime(\"%H:%M:%S\", time.localtime()))"
   ]
  },
  {
   "cell_type": "code",
   "execution_count": 44,
   "id": "eaaf0c39",
   "metadata": {
    "scrolled": false
   },
   "outputs": [
    {
     "name": "stdout",
     "output_type": "stream",
     "text": [
      "Training set accuracy:  0.9846901903552409\n",
      "Test set accuracy:  0.9764671213269344\n"
     ]
    },
    {
     "data": {
      "image/png": "[encoded data removed]",
      "text/plain": [
       "<Figure size 640x480 with 2 Axes>"
      ]
     },
     "metadata": {},
     "output_type": "display_data"
    }
   ],
   "source": [
    "from sklearn.metrics import accuracy_score\n",
    "from sklearn.metrics import confusion_matrix\n",
    "\n",
    "y_pred_train = clf.predict(X_train)\n",
    "accuracy_train = accuracy_score(y_train, y_pred_train)\n",
    "print(\"Training set accuracy: \", accuracy_train)\n",
    "\n",
    "y_pred_test = clf.predict(X_test)\n",
    "accuracy_test = accuracy_score(y_test, y_pred_test)\n",
    "print(\"Test set accuracy: \", accuracy_test)\n",
    "sns.heatmap(confusion_matrix(y_test, y_pred_test), annot=True, fmt='.0f')\n",
    "plt.show()"
   ]
  },
  {
   "cell_type": "markdown",
   "id": "dd9f2aa1",
   "metadata": {},
   "source": [
    "#### KNN"
   ]
  },
  {
   "cell_type": "code",
   "execution_count": 48,
   "id": "b8433620",
   "metadata": {},
   "outputs": [
    {
     "name": "stdout",
     "output_type": "stream",
     "text": [
      "18:55:17\n",
      "18:55:18\n",
      "(285046, 7) (95016, 7)\n"
     ]
    }
   ],
   "source": [
    "from sklearn.neighbors import KNeighborsClassifier\n",
    "\n",
    "knn = KNeighborsClassifier(n_neighbors=3)\n",
    "\n",
    "t = time.localtime()\n",
    "current_time = time.strftime(\"%H:%M:%S\", t)\n",
    "print(current_time)\n",
    "knn.fit(X_train, y_train)\n",
    "print(time.strftime(\"%H:%M:%S\", time.localtime()))\n",
    "print(X_train.shape, X_test.shape)"
   ]
  },
  {
   "cell_type": "code",
   "execution_count": 49,
   "id": "ab5a1488",
   "metadata": {},
   "outputs": [
    {
     "name": "stdout",
     "output_type": "stream",
     "text": [
      "Training set accuracy:  0.9799155224069097\n",
      "Test set accuracy:  0.9756988296707922\n"
     ]
    },
    {
     "data": {
      "image/png": "[encoded data removed]",
      "text/plain": [
       "<Figure size 640x480 with 2 Axes>"
      ]
     },
     "metadata": {},
     "output_type": "display_data"
    }
   ],
   "source": [
    "from sklearn.metrics import accuracy_score\n",
    "from sklearn.metrics import confusion_matrix\n",
    "\n",
    "y_pred_train = knn.predict(X_train)\n",
    "accuracy_train = accuracy_score(y_train, y_pred_train)\n",
    "print(\"Training set accuracy: \", accuracy_train)\n",
    "\n",
    "y_pred_test = knn.predict(X_test)\n",
    "accuracy_test = accuracy_score(y_test, y_pred_test)\n",
    "print(\"Test set accuracy: \", accuracy_test)\n",
    "sns.heatmap(confusion_matrix(y_test, y_pred_test), annot=True, fmt='.0f')\n",
    "plt.show()"
   ]
  },
  {
   "cell_type": "markdown",
   "id": "8fd8763a",
   "metadata": {},
   "source": [
    "#### SVM"
   ]
  },
  {
   "cell_type": "code",
   "execution_count": 50,
   "id": "6d1d8ad9",
   "metadata": {},
   "outputs": [
    {
     "name": "stdout",
     "output_type": "stream",
     "text": [
      "18:57:53\n",
      "19:13:13\n"
     ]
    }
   ],
   "source": [
    "import time\n",
    "from sklearn.svm import SVC\n",
    "\n",
    "t = time.localtime()\n",
    "current_time = time.strftime(\"%H:%M:%S\", t)\n",
    "print(current_time)\n",
    "model = SVC(random_state=42)\n",
    "model.fit(X_train, y_train)\n",
    "t = time.localtime()\n",
    "current_time = time.strftime(\"%H:%M:%S\", t)\n",
    "print(current_time)"
   ]
  },
  {
   "cell_type": "code",
   "execution_count": 51,
   "id": "bad545ec",
   "metadata": {},
   "outputs": [
    {
     "name": "stdout",
     "output_type": "stream",
     "text": [
      "Training set accuracy:  0.9674964742532784\n",
      "Test set accuracy:  0.9665003788835564\n"
     ]
    },
    {
     "data": {
      "image/png": "[encoded data removed]",
      "text/plain": [
       "<Figure size 640x480 with 2 Axes>"
      ]
     },
     "metadata": {},
     "output_type": "display_data"
    }
   ],
   "source": [
    "from sklearn.metrics import accuracy_score\n",
    "from sklearn.metrics import confusion_matrix\n",
    "\n",
    "y_pred_train = model.predict(X_train)\n",
    "accuracy_train = accuracy_score(y_train, y_pred_train)\n",
    "print(\"Training set accuracy: \", accuracy_train)\n",
    "\n",
    "y_pred_test = model.predict(X_test)\n",
    "accuracy_test = accuracy_score(y_test, y_pred_test)\n",
    "print(\"Test set accuracy: \", accuracy_test)\n",
    "sns.heatmap(confusion_matrix(y_test, y_pred_test), annot=True, fmt='.0f')\n",
    "plt.show()"
   ]
  },
  {
   "cell_type": "markdown",
   "id": "9091ba87",
   "metadata": {},
   "source": [
    "#### BPNN "
   ]
  },
  {
   "cell_type": "code",
   "execution_count": 83,
   "id": "98a4a9dd",
   "metadata": {},
   "outputs": [],
   "source": [
    "from keras.models import Sequential\n",
    "from keras.layers import Dense, Activation\n",
    "import numpy as np"
   ]
  },
  {
   "cell_type": "code",
   "execution_count": 132,
   "id": "1857250d",
   "metadata": {},
   "outputs": [
    {
     "name": "stdout",
     "output_type": "stream",
     "text": [
      "Model: \"sequential_5\"\n",
      "_________________________________________________________________\n",
      " Layer (type)                Output Shape              Param #   \n",
      "=================================================================\n",
      " dense_10 (Dense)            (None, 10)                80        \n",
      "                                                                 \n",
      " activation_8 (Activation)   (None, 10)                0         \n",
      "                                                                 \n",
      " dense_11 (Dense)            (None, 1)                 11        \n",
      "                                                                 \n",
      " activation_9 (Activation)   (None, 1)                 0         \n",
      "                                                                 \n",
      "=================================================================\n",
      "Total params: 91\n",
      "Trainable params: 91\n",
      "Non-trainable params: 0\n",
      "_________________________________________________________________\n"
     ]
    }
   ],
   "source": [
    "model = Sequential()\n",
    "model.add(Dense(10, input_shape=(7,)))\n",
    "model.add(Activation('sigmoid'))\n",
    "model.add(Dense(1))\n",
    "model.add(Activation('sigmoid')) \n",
    "\n",
    "model.compile(loss='mean_squared_error', optimizer='sgd', metrics=['accuracy']) \n",
    "model.summary()"
   ]
  },
  {
   "cell_type": "code",
   "execution_count": 133,
   "id": "0c1bc384",
   "metadata": {},
   "outputs": [
    {
     "name": "stdout",
     "output_type": "stream",
     "text": [
      "28505/28505 [==============================] - 144s 5ms/step - loss: 0.0326 - accuracy: 0.9671\n"
     ]
    },
    {
     "data": {
      "text/plain": [
       "<keras.callbacks.History at 0x27793214e50>"
      ]
     },
     "execution_count": 133,
     "metadata": {},
     "output_type": "execute_result"
    }
   ],
   "source": [
    "model.fit(X_train, y_train, epochs=1, batch_size=10)\n",
    "\n",
    "#_, accuracy = model.evaluate(X_test, y_test)\n",
    "#print('Accuracy: %.2f' % (accuracy*100))"
   ]
  },
  {
   "cell_type": "code",
   "execution_count": 136,
   "id": "481962ec",
   "metadata": {},
   "outputs": [
    {
     "name": "stdout",
     "output_type": "stream",
     "text": [
      "2970/2970 [==============================] - 16s 5ms/step\n"
     ]
    },
    {
     "ename": "ValueError",
     "evalue": "Classification metrics can't handle a mix of binary and continuous targets",
     "output_type": "error",
     "traceback": [
      "\u001b[1;31m---------------------------------------------------------------------------\u001b[0m",
      "\u001b[1;31mValueError\u001b[0m                                Traceback (most recent call last)",
      "Cell \u001b[1;32mIn [136], line 4\u001b[0m\n\u001b[0;32m      1\u001b[0m y_pred_test \u001b[38;5;241m=\u001b[39m model\u001b[38;5;241m.\u001b[39mpredict(X_test)\n\u001b[0;32m      3\u001b[0m y_pred_1 \u001b[38;5;241m=\u001b[39m y_pred_test[:,\u001b[38;5;241m0\u001b[39m]\n\u001b[1;32m----> 4\u001b[0m result \u001b[38;5;241m=\u001b[39m \u001b[43mconfusion_matrix\u001b[49m\u001b[43m(\u001b[49m\u001b[43my_test\u001b[49m\u001b[43m,\u001b[49m\u001b[43m \u001b[49m\u001b[43my_pred_1\u001b[49m\u001b[43m)\u001b[49m\n\u001b[0;32m      5\u001b[0m \u001b[38;5;28mprint\u001b[39m(result)\n",
      "File \u001b[1;32m~\\AppData\\Local\\Programs\\Python\\Python310\\lib\\site-packages\\sklearn\\metrics\\_classification.py:307\u001b[0m, in \u001b[0;36mconfusion_matrix\u001b[1;34m(y_true, y_pred, labels, sample_weight, normalize)\u001b[0m\n\u001b[0;32m    222\u001b[0m \u001b[38;5;28;01mdef\u001b[39;00m \u001b[38;5;21mconfusion_matrix\u001b[39m(\n\u001b[0;32m    223\u001b[0m     y_true, y_pred, \u001b[38;5;241m*\u001b[39m, labels\u001b[38;5;241m=\u001b[39m\u001b[38;5;28;01mNone\u001b[39;00m, sample_weight\u001b[38;5;241m=\u001b[39m\u001b[38;5;28;01mNone\u001b[39;00m, normalize\u001b[38;5;241m=\u001b[39m\u001b[38;5;28;01mNone\u001b[39;00m\n\u001b[0;32m    224\u001b[0m ):\n\u001b[0;32m    225\u001b[0m     \u001b[38;5;124;03m\"\"\"Compute confusion matrix to evaluate the accuracy of a classification.\u001b[39;00m\n\u001b[0;32m    226\u001b[0m \n\u001b[0;32m    227\u001b[0m \u001b[38;5;124;03m    By definition a confusion matrix :math:`C` is such that :math:`C_{i, j}`\u001b[39;00m\n\u001b[1;32m   (...)\u001b[0m\n\u001b[0;32m    305\u001b[0m \u001b[38;5;124;03m    (0, 2, 1, 1)\u001b[39;00m\n\u001b[0;32m    306\u001b[0m \u001b[38;5;124;03m    \"\"\"\u001b[39;00m\n\u001b[1;32m--> 307\u001b[0m     y_type, y_true, y_pred \u001b[38;5;241m=\u001b[39m \u001b[43m_check_targets\u001b[49m\u001b[43m(\u001b[49m\u001b[43my_true\u001b[49m\u001b[43m,\u001b[49m\u001b[43m \u001b[49m\u001b[43my_pred\u001b[49m\u001b[43m)\u001b[49m\n\u001b[0;32m    308\u001b[0m     \u001b[38;5;28;01mif\u001b[39;00m y_type \u001b[38;5;129;01mnot\u001b[39;00m \u001b[38;5;129;01min\u001b[39;00m (\u001b[38;5;124m\"\u001b[39m\u001b[38;5;124mbinary\u001b[39m\u001b[38;5;124m\"\u001b[39m, \u001b[38;5;124m\"\u001b[39m\u001b[38;5;124mmulticlass\u001b[39m\u001b[38;5;124m\"\u001b[39m):\n\u001b[0;32m    309\u001b[0m         \u001b[38;5;28;01mraise\u001b[39;00m \u001b[38;5;167;01mValueError\u001b[39;00m(\u001b[38;5;124m\"\u001b[39m\u001b[38;5;132;01m%s\u001b[39;00m\u001b[38;5;124m is not supported\u001b[39m\u001b[38;5;124m\"\u001b[39m \u001b[38;5;241m%\u001b[39m y_type)\n",
      "File \u001b[1;32m~\\AppData\\Local\\Programs\\Python\\Python310\\lib\\site-packages\\sklearn\\metrics\\_classification.py:93\u001b[0m, in \u001b[0;36m_check_targets\u001b[1;34m(y_true, y_pred)\u001b[0m\n\u001b[0;32m     90\u001b[0m     y_type \u001b[38;5;241m=\u001b[39m {\u001b[38;5;124m\"\u001b[39m\u001b[38;5;124mmulticlass\u001b[39m\u001b[38;5;124m\"\u001b[39m}\n\u001b[0;32m     92\u001b[0m \u001b[38;5;28;01mif\u001b[39;00m \u001b[38;5;28mlen\u001b[39m(y_type) \u001b[38;5;241m>\u001b[39m \u001b[38;5;241m1\u001b[39m:\n\u001b[1;32m---> 93\u001b[0m     \u001b[38;5;28;01mraise\u001b[39;00m \u001b[38;5;167;01mValueError\u001b[39;00m(\n\u001b[0;32m     94\u001b[0m         \u001b[38;5;124m\"\u001b[39m\u001b[38;5;124mClassification metrics can\u001b[39m\u001b[38;5;124m'\u001b[39m\u001b[38;5;124mt handle a mix of \u001b[39m\u001b[38;5;132;01m{0}\u001b[39;00m\u001b[38;5;124m and \u001b[39m\u001b[38;5;132;01m{1}\u001b[39;00m\u001b[38;5;124m targets\u001b[39m\u001b[38;5;124m\"\u001b[39m\u001b[38;5;241m.\u001b[39mformat(\n\u001b[0;32m     95\u001b[0m             type_true, type_pred\n\u001b[0;32m     96\u001b[0m         )\n\u001b[0;32m     97\u001b[0m     )\n\u001b[0;32m     99\u001b[0m \u001b[38;5;66;03m# We can't have more than one value on y_type => The set is no more needed\u001b[39;00m\n\u001b[0;32m    100\u001b[0m y_type \u001b[38;5;241m=\u001b[39m y_type\u001b[38;5;241m.\u001b[39mpop()\n",
      "\u001b[1;31mValueError\u001b[0m: Classification metrics can't handle a mix of binary and continuous targets"
     ]
    }
   ],
   "source": [
    "y_pred_test = model.predict(X_test)\n",
    "\n",
    "y_pred_1 = y_pred_test[:,0]\n",
    "result = confusion_matrix(y_test, y_pred_1)\n",
    "print(result)"
   ]
  },
  {
   "cell_type": "code",
   "execution_count": null,
   "id": "24e20fc4",
   "metadata": {},
   "outputs": [],
   "source": [
    "result = confusion_matrix(y_test, y_pred_test)\n",
    "result"
   ]
  },
  {
   "cell_type": "code",
   "execution_count": null,
   "id": "2da2b01c",
   "metadata": {},
   "outputs": [],
   "source": []
  }
 ],
 "metadata": {
  "kernelspec": {
   "display_name": "Python 3 (ipykernel)",
   "language": "python",
   "name": "python3"
  },
  "language_info": {
   "codemirror_mode": {
    "name": "ipython",
    "version": 3
   },
   "file_extension": ".py",
   "mimetype": "text/x-python",
   "name": "python",
   "nbconvert_exporter": "python",
   "pygments_lexer": "ipython3",
   "version": "3.10.8"
  }
 },
 "nbformat": 4,
 "nbformat_minor": 5
}
