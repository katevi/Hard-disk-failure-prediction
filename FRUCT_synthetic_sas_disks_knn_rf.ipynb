{
 "cells": [
  {
   "cell_type": "markdown",
   "id": "0872d4a1",
   "metadata": {},
   "source": [
    "# Hard drive failure prediction for SAS disks\n",
    "\n",
    "Особый интерес для исследований представляют SAS диски, так как они используются в современных СХД и серверах. SAS диски представляют smart параметры, отличные от smart параметров SATA дисков (представленных в существующих статьях на тему прогнозирования отказов дисков).\n",
    "\n",
    "Пример SMART репорта SAS диска может быть найден [тут](https://hardforum.com/threads/seagate-sas-in-sm-jbod-lots-of-read-errors-anyone-else.1878472/) и [тут](http://sg.danny.cz/scsi/smartmontools_scsi.html).\n",
    "\n",
    "Документация к SMART параметрам SAS дисков:\n",
    "- [smartmontools scsi](https://www.smartmontools.org/browser/trunk/www/smartmontools_scsi.xml)\n",
    "- [scsi sas nvme does not provide SATA like attributes](https://www.smartmontools.org/wiki/FAQ#MySCSISASdriveisnotinthesmartctlsmartddatabase)\n",
    "\n"
   ]
  },
  {
   "cell_type": "markdown",
   "id": "04102dda",
   "metadata": {},
   "source": [
    "Примерное отображение SATA параметров в SAS:\n",
    "\n",
    "| SMART parameter for SATA | SATA SMART id | SMART parameter for SAS|\n",
    "| --- | --- | --- |\n",
    "| Power-on Time hours | 09  | Number of hours powered up| \n",
    "|(HDA) temperature | 194 | Current Drive Temperature | \n",
    "| Reallocated sectors count | 05 | Grown defects list |\n",
    "|Read error rate | 01 | Total uncorrected errors read (?) | \n",
    "|Write error rate | 200 | Uncorrected errors write + corrected errors write (?) |\n",
    "|Reported uncorrectable errors | 187 | Total uncorrected (sum?)|\n",
    "| Load / unload cycle count | 193 | Accumulated load / unload cycles |\n",
    "| Start / stop count | 04 | Accumulated start / stop cycles |\n",
    "| Hardware ECC recovered | 195 | ECC delayed / fast (?) |\n",
    "| Soft ECC correction | 204 | ECC delayed / fast (?) | \n",
    "\n",
    "Оставим только эти параметры для исследовавшегося ранее BackBlaze датасета SATA дисков. Возможно, выводы, основанные на таком датасете, могут пригодиться для датасета реальных SAS дисков."
   ]
  },
  {
   "cell_type": "markdown",
   "id": "e23671a7",
   "metadata": {},
   "source": [
    "## Investigating dataset with potential SAS disks parameters\n",
    "### Preliminary"
   ]
  },
  {
   "cell_type": "code",
   "execution_count": 4,
   "id": "b072c890",
   "metadata": {},
   "outputs": [
    {
     "data": {
      "text/html": [
       "<div>\n",
       "<style scoped>\n",
       "    .dataframe tbody tr th:only-of-type {\n",
       "        vertical-align: middle;\n",
       "    }\n",
       "\n",
       "    .dataframe tbody tr th {\n",
       "        vertical-align: top;\n",
       "    }\n",
       "\n",
       "    .dataframe thead th {\n",
       "        text-align: right;\n",
       "    }\n",
       "</style>\n",
       "<table border=\"1\" class=\"dataframe\">\n",
       "  <thead>\n",
       "    <tr style=\"text-align: right;\">\n",
       "      <th></th>\n",
       "      <th>date</th>\n",
       "      <th>serial_number</th>\n",
       "      <th>model</th>\n",
       "      <th>capacity_bytes</th>\n",
       "      <th>failure</th>\n",
       "      <th>smart_1_normalized</th>\n",
       "      <th>smart_1_raw</th>\n",
       "      <th>smart_2_normalized</th>\n",
       "      <th>smart_2_raw</th>\n",
       "      <th>smart_3_normalized</th>\n",
       "      <th>...</th>\n",
       "      <th>smart_250_normalized</th>\n",
       "      <th>smart_250_raw</th>\n",
       "      <th>smart_251_normalized</th>\n",
       "      <th>smart_251_raw</th>\n",
       "      <th>smart_252_normalized</th>\n",
       "      <th>smart_252_raw</th>\n",
       "      <th>smart_254_normalized</th>\n",
       "      <th>smart_254_raw</th>\n",
       "      <th>smart_255_normalized</th>\n",
       "      <th>smart_255_raw</th>\n",
       "    </tr>\n",
       "  </thead>\n",
       "  <tbody>\n",
       "    <tr>\n",
       "      <th>0</th>\n",
       "      <td>2018-01-01</td>\n",
       "      <td>Z3016TK2</td>\n",
       "      <td>ST4000DM000</td>\n",
       "      <td>4000787030016</td>\n",
       "      <td>0</td>\n",
       "      <td>115.0</td>\n",
       "      <td>87117728.0</td>\n",
       "      <td>NaN</td>\n",
       "      <td>NaN</td>\n",
       "      <td>96.0</td>\n",
       "      <td>...</td>\n",
       "      <td>NaN</td>\n",
       "      <td>NaN</td>\n",
       "      <td>NaN</td>\n",
       "      <td>NaN</td>\n",
       "      <td>NaN</td>\n",
       "      <td>NaN</td>\n",
       "      <td>NaN</td>\n",
       "      <td>NaN</td>\n",
       "      <td>NaN</td>\n",
       "      <td>NaN</td>\n",
       "    </tr>\n",
       "    <tr>\n",
       "      <th>1</th>\n",
       "      <td>2018-01-01</td>\n",
       "      <td>W300GLSS</td>\n",
       "      <td>ST4000DM000</td>\n",
       "      <td>4000787030016</td>\n",
       "      <td>1</td>\n",
       "      <td>111.0</td>\n",
       "      <td>40108520.0</td>\n",
       "      <td>NaN</td>\n",
       "      <td>NaN</td>\n",
       "      <td>92.0</td>\n",
       "      <td>...</td>\n",
       "      <td>NaN</td>\n",
       "      <td>NaN</td>\n",
       "      <td>NaN</td>\n",
       "      <td>NaN</td>\n",
       "      <td>NaN</td>\n",
       "      <td>NaN</td>\n",
       "      <td>NaN</td>\n",
       "      <td>NaN</td>\n",
       "      <td>NaN</td>\n",
       "      <td>NaN</td>\n",
       "    </tr>\n",
       "    <tr>\n",
       "      <th>2</th>\n",
       "      <td>2018-01-01</td>\n",
       "      <td>Z302SXQ0</td>\n",
       "      <td>ST4000DM000</td>\n",
       "      <td>4000787030016</td>\n",
       "      <td>0</td>\n",
       "      <td>119.0</td>\n",
       "      <td>208926768.0</td>\n",
       "      <td>NaN</td>\n",
       "      <td>NaN</td>\n",
       "      <td>94.0</td>\n",
       "      <td>...</td>\n",
       "      <td>NaN</td>\n",
       "      <td>NaN</td>\n",
       "      <td>NaN</td>\n",
       "      <td>NaN</td>\n",
       "      <td>NaN</td>\n",
       "      <td>NaN</td>\n",
       "      <td>NaN</td>\n",
       "      <td>NaN</td>\n",
       "      <td>NaN</td>\n",
       "      <td>NaN</td>\n",
       "    </tr>\n",
       "    <tr>\n",
       "      <th>3</th>\n",
       "      <td>2018-01-01</td>\n",
       "      <td>Z3025L3F</td>\n",
       "      <td>ST4000DM000</td>\n",
       "      <td>4000787030016</td>\n",
       "      <td>1</td>\n",
       "      <td>111.0</td>\n",
       "      <td>30947064.0</td>\n",
       "      <td>NaN</td>\n",
       "      <td>NaN</td>\n",
       "      <td>92.0</td>\n",
       "      <td>...</td>\n",
       "      <td>NaN</td>\n",
       "      <td>NaN</td>\n",
       "      <td>NaN</td>\n",
       "      <td>NaN</td>\n",
       "      <td>NaN</td>\n",
       "      <td>NaN</td>\n",
       "      <td>NaN</td>\n",
       "      <td>NaN</td>\n",
       "      <td>NaN</td>\n",
       "      <td>NaN</td>\n",
       "    </tr>\n",
       "    <tr>\n",
       "      <th>4</th>\n",
       "      <td>2018-01-01</td>\n",
       "      <td>Z302SW9C</td>\n",
       "      <td>ST4000DM000</td>\n",
       "      <td>4000787030016</td>\n",
       "      <td>0</td>\n",
       "      <td>117.0</td>\n",
       "      <td>137764288.0</td>\n",
       "      <td>NaN</td>\n",
       "      <td>NaN</td>\n",
       "      <td>92.0</td>\n",
       "      <td>...</td>\n",
       "      <td>NaN</td>\n",
       "      <td>NaN</td>\n",
       "      <td>NaN</td>\n",
       "      <td>NaN</td>\n",
       "      <td>NaN</td>\n",
       "      <td>NaN</td>\n",
       "      <td>NaN</td>\n",
       "      <td>NaN</td>\n",
       "      <td>NaN</td>\n",
       "      <td>NaN</td>\n",
       "    </tr>\n",
       "  </tbody>\n",
       "</table>\n",
       "<p>5 rows × 105 columns</p>\n",
       "</div>"
      ],
      "text/plain": [
       "         date serial_number        model  capacity_bytes  failure  \\\n",
       "0  2018-01-01      Z3016TK2  ST4000DM000   4000787030016        0   \n",
       "1  2018-01-01      W300GLSS  ST4000DM000   4000787030016        1   \n",
       "2  2018-01-01      Z302SXQ0  ST4000DM000   4000787030016        0   \n",
       "3  2018-01-01      Z3025L3F  ST4000DM000   4000787030016        1   \n",
       "4  2018-01-01      Z302SW9C  ST4000DM000   4000787030016        0   \n",
       "\n",
       "   smart_1_normalized  smart_1_raw  smart_2_normalized  smart_2_raw  \\\n",
       "0               115.0   87117728.0                 NaN          NaN   \n",
       "1               111.0   40108520.0                 NaN          NaN   \n",
       "2               119.0  208926768.0                 NaN          NaN   \n",
       "3               111.0   30947064.0                 NaN          NaN   \n",
       "4               117.0  137764288.0                 NaN          NaN   \n",
       "\n",
       "   smart_3_normalized  ...  smart_250_normalized  smart_250_raw  \\\n",
       "0                96.0  ...                   NaN            NaN   \n",
       "1                92.0  ...                   NaN            NaN   \n",
       "2                94.0  ...                   NaN            NaN   \n",
       "3                92.0  ...                   NaN            NaN   \n",
       "4                92.0  ...                   NaN            NaN   \n",
       "\n",
       "   smart_251_normalized  smart_251_raw  smart_252_normalized  smart_252_raw  \\\n",
       "0                   NaN            NaN                   NaN            NaN   \n",
       "1                   NaN            NaN                   NaN            NaN   \n",
       "2                   NaN            NaN                   NaN            NaN   \n",
       "3                   NaN            NaN                   NaN            NaN   \n",
       "4                   NaN            NaN                   NaN            NaN   \n",
       "\n",
       "   smart_254_normalized  smart_254_raw  smart_255_normalized  smart_255_raw  \n",
       "0                   NaN            NaN                   NaN            NaN  \n",
       "1                   NaN            NaN                   NaN            NaN  \n",
       "2                   NaN            NaN                   NaN            NaN  \n",
       "3                   NaN            NaN                   NaN            NaN  \n",
       "4                   NaN            NaN                   NaN            NaN  \n",
       "\n",
       "[5 rows x 105 columns]"
      ]
     },
     "execution_count": 4,
     "metadata": {},
     "output_type": "execute_result"
    }
   ],
   "source": [
    "import pandas as pd\n",
    "\n",
    "# Concatenating all datasets (one dataset per month 2017) to one\n",
    "##df_bb = pd.concat(map(pd.read_csv, glob.glob(\"./backblaze_ST4000DM000/*.csv\")))\n",
    "df_bb = pd.read_csv('./backblaze_ST4000DM000/model_2018_ST4000DM000.csv')\n",
    "df_bb.head()"
   ]
  },
  {
   "cell_type": "code",
   "execution_count": 5,
   "id": "0cd0821a",
   "metadata": {},
   "outputs": [
    {
     "data": {
      "text/plain": [
       "(380078, 105)"
      ]
     },
     "execution_count": 5,
     "metadata": {},
     "output_type": "execute_result"
    }
   ],
   "source": [
    "df_bb.shape"
   ]
  },
  {
   "cell_type": "code",
   "execution_count": 6,
   "id": "1d4604ce",
   "metadata": {},
   "outputs": [
    {
     "data": {
      "text/plain": [
       "0    367482\n",
       "1     12596\n",
       "Name: failure, dtype: int64"
      ]
     },
     "execution_count": 6,
     "metadata": {},
     "output_type": "execute_result"
    }
   ],
   "source": [
    "df_bb['failure'].value_counts()"
   ]
  },
  {
   "cell_type": "code",
   "execution_count": 7,
   "id": "257fd58d",
   "metadata": {},
   "outputs": [
    {
     "name": "stdout",
     "output_type": "stream",
     "text": [
      "Dataset with normalized features values ['date' 'serial_number' 'model' 'capacity_bytes' 'failure' 'smart_1_raw'\n",
      " 'smart_2_raw' 'smart_3_raw' 'smart_4_raw' 'smart_5_raw' 'smart_7_raw'\n",
      " 'smart_8_raw' 'smart_9_raw' 'smart_10_raw' 'smart_11_raw' 'smart_12_raw'\n",
      " 'smart_13_raw' 'smart_15_raw' 'smart_22_raw' 'smart_177_raw'\n",
      " 'smart_179_raw' 'smart_181_raw' 'smart_182_raw' 'smart_183_raw'\n",
      " 'smart_184_raw' 'smart_187_raw' 'smart_188_raw' 'smart_189_raw'\n",
      " 'smart_190_raw' 'smart_191_raw' 'smart_192_raw' 'smart_193_raw'\n",
      " 'smart_194_raw' 'smart_195_raw' 'smart_196_raw' 'smart_197_raw'\n",
      " 'smart_198_raw' 'smart_199_raw' 'smart_200_raw' 'smart_201_raw'\n",
      " 'smart_220_raw' 'smart_222_raw' 'smart_223_raw' 'smart_224_raw'\n",
      " 'smart_225_raw' 'smart_226_raw' 'smart_235_raw' 'smart_240_raw'\n",
      " 'smart_241_raw' 'smart_242_raw' 'smart_250_raw' 'smart_251_raw'\n",
      " 'smart_252_raw' 'smart_254_raw' 'smart_255_raw']\n",
      "(380078, 55)\n"
     ]
    }
   ],
   "source": [
    "df_bb_normalized = df_bb[df_bb.columns.drop(list(df_bb.filter(regex='normalized')))]\n",
    "feat_names_normalized = df_bb_normalized.columns.values\n",
    "print(\"Dataset with normalized features values\", feat_names_normalized)\n",
    "print(df_bb_normalized.shape)"
   ]
  },
  {
   "cell_type": "code",
   "execution_count": 8,
   "id": "6aeb9902",
   "metadata": {},
   "outputs": [
    {
     "data": {
      "text/plain": [
       "date               0\n",
       "serial_number      0\n",
       "model              0\n",
       "capacity_bytes     0\n",
       "failure            0\n",
       "smart_1_raw       16\n",
       "smart_3_raw       16\n",
       "smart_4_raw       16\n",
       "smart_5_raw       16\n",
       "smart_7_raw       16\n",
       "smart_9_raw       16\n",
       "smart_10_raw      16\n",
       "smart_12_raw      16\n",
       "smart_183_raw     16\n",
       "smart_184_raw     16\n",
       "smart_187_raw     16\n",
       "smart_188_raw     16\n",
       "smart_189_raw     16\n",
       "smart_190_raw     16\n",
       "smart_191_raw     16\n",
       "smart_192_raw     16\n",
       "smart_193_raw     16\n",
       "smart_194_raw     16\n",
       "smart_197_raw     16\n",
       "smart_198_raw     16\n",
       "smart_199_raw     16\n",
       "smart_240_raw     16\n",
       "smart_241_raw     16\n",
       "smart_242_raw     16\n",
       "dtype: int64"
      ]
     },
     "execution_count": 8,
     "metadata": {},
     "output_type": "execute_result"
    }
   ],
   "source": [
    "columns_with_values = df_bb_normalized.columns[df_bb_normalized.isnull().sum() <= 100]\n",
    "df_bb_normalized = df_bb_normalized[columns_with_values]\n",
    "df_bb_normalized.isnull().sum()"
   ]
  },
  {
   "cell_type": "markdown",
   "id": "e076cde9",
   "metadata": {},
   "source": [
    "Нужны параметры: 1, 4, 5, 9, 187, 193, 194, 200"
   ]
  },
  {
   "cell_type": "code",
   "execution_count": 12,
   "id": "11e2db61",
   "metadata": {},
   "outputs": [],
   "source": [
    "sas_params = ['failure', 'smart_1_normalized', 'smart_4_normalized', 'smart_5_normalized', \n",
    "              'smart_9_normalized', 'smart_187_normalized', \n",
    "              'smart_193_normalized', 'smart_194_normalized'] #, 'smart_204_normalized', 'smart_195_normalized']\n",
    "sas_params = ['failure', 'smart_1_raw', 'smart_4_raw', 'smart_5_raw',\n",
    "'smart_9_raw', 'smart_187_raw', 'smart_193_raw', 'smart_194_raw']\n",
    "df_bb_normalized = df_bb_normalized[sas_params]"
   ]
  },
  {
   "cell_type": "code",
   "execution_count": 13,
   "id": "9c52ee5a",
   "metadata": {},
   "outputs": [
    {
     "data": {
      "text/plain": [
       "failure           0\n",
       "smart_1_raw      16\n",
       "smart_4_raw      16\n",
       "smart_5_raw      16\n",
       "smart_9_raw      16\n",
       "smart_187_raw    16\n",
       "smart_193_raw    16\n",
       "smart_194_raw    16\n",
       "dtype: int64"
      ]
     },
     "execution_count": 13,
     "metadata": {},
     "output_type": "execute_result"
    }
   ],
   "source": [
    "df_bb_normalized.isnull().sum()"
   ]
  },
  {
   "cell_type": "code",
   "execution_count": 14,
   "id": "21512d04",
   "metadata": {},
   "outputs": [
    {
     "data": {
      "text/plain": [
       "(380078, 8)"
      ]
     },
     "execution_count": 14,
     "metadata": {},
     "output_type": "execute_result"
    }
   ],
   "source": [
    "df_bb_normalized.shape"
   ]
  },
  {
   "cell_type": "code",
   "execution_count": 15,
   "id": "4d2512c8",
   "metadata": {},
   "outputs": [
    {
     "data": {
      "text/plain": [
       "(380062, 8)"
      ]
     },
     "execution_count": 15,
     "metadata": {},
     "output_type": "execute_result"
    }
   ],
   "source": [
    "df_bb_normalized = df_bb_normalized.dropna()\n",
    "df_bb_normalized.shape"
   ]
  },
  {
   "cell_type": "code",
   "execution_count": 16,
   "id": "accbf2c4",
   "metadata": {},
   "outputs": [
    {
     "data": {
      "text/plain": [
       "failure          0\n",
       "smart_1_raw      0\n",
       "smart_4_raw      0\n",
       "smart_5_raw      0\n",
       "smart_9_raw      0\n",
       "smart_187_raw    0\n",
       "smart_193_raw    0\n",
       "smart_194_raw    0\n",
       "dtype: int64"
      ]
     },
     "execution_count": 16,
     "metadata": {},
     "output_type": "execute_result"
    }
   ],
   "source": [
    "df_bb_normalized.isnull().sum()"
   ]
  },
  {
   "cell_type": "code",
   "execution_count": 17,
   "id": "5737c5db",
   "metadata": {},
   "outputs": [],
   "source": [
    "df_renamed = df_bb_normalized\n",
    "#df_renamed = df_renamed.rename(columns={\n",
    "#    \"smart_1_normalized\":\"read error rate\", \n",
    "#    \"smart_4_normalized\":\"accumulated start-stop cycles\",\n",
    "#    \"smart_5_normalized\": \"reallocated sectors count\",\n",
    "#    \"smart_9_normalized\":\"accumulated power on time hours\",\n",
    "#    \"smart_187_normalized\": \"reported uncorrectable errors\",\n",
    "#    \"smart_193_normalized\":\"accumulated load-unload cycles\",\n",
    "#    \"smart_194_normalized\": \"current temperature\",\n",
    "#    \"smart_200_normalized\":\"write error rate\"})\n",
    "\n",
    "df_renamed = df_renamed.rename(columns={\n",
    "    \"smart_1_raw\":\"read error rate\", \n",
    "    \"smart_4_raw\":\"accumulated start-stop cycles\",\n",
    "    \"smart_5_raw\": \"reallocated sectors count\",\n",
    "    \"smart_9_raw\":\"accumulated power on time hours\",\n",
    "    \"smart_187_raw\": \"reported uncorrectable errors\",\n",
    "    \"smart_193_raw\":\"accumulated load-unload cycles\",\n",
    "    \"smart_194_raw\": \"current temperature\",\n",
    "    \"smart_200_raw\":\"write error rate\"})"
   ]
  },
  {
   "cell_type": "code",
   "execution_count": 18,
   "id": "e120d328",
   "metadata": {},
   "outputs": [
    {
     "data": {
      "text/html": [
       "<div>\n",
       "<style scoped>\n",
       "    .dataframe tbody tr th:only-of-type {\n",
       "        vertical-align: middle;\n",
       "    }\n",
       "\n",
       "    .dataframe tbody tr th {\n",
       "        vertical-align: top;\n",
       "    }\n",
       "\n",
       "    .dataframe thead th {\n",
       "        text-align: right;\n",
       "    }\n",
       "</style>\n",
       "<table border=\"1\" class=\"dataframe\">\n",
       "  <thead>\n",
       "    <tr style=\"text-align: right;\">\n",
       "      <th></th>\n",
       "      <th>failure</th>\n",
       "      <th>read error rate</th>\n",
       "      <th>accumulated start-stop cycles</th>\n",
       "      <th>reallocated sectors count</th>\n",
       "      <th>accumulated power on time hours</th>\n",
       "      <th>reported uncorrectable errors</th>\n",
       "      <th>accumulated load-unload cycles</th>\n",
       "      <th>current temperature</th>\n",
       "    </tr>\n",
       "  </thead>\n",
       "  <tbody>\n",
       "    <tr>\n",
       "      <th>0</th>\n",
       "      <td>0</td>\n",
       "      <td>87117728.0</td>\n",
       "      <td>4.0</td>\n",
       "      <td>0.0</td>\n",
       "      <td>33507.0</td>\n",
       "      <td>0.0</td>\n",
       "      <td>4579.0</td>\n",
       "      <td>30.0</td>\n",
       "    </tr>\n",
       "    <tr>\n",
       "      <th>1</th>\n",
       "      <td>1</td>\n",
       "      <td>40108520.0</td>\n",
       "      <td>30.0</td>\n",
       "      <td>0.0</td>\n",
       "      <td>37030.0</td>\n",
       "      <td>0.0</td>\n",
       "      <td>61458.0</td>\n",
       "      <td>24.0</td>\n",
       "    </tr>\n",
       "    <tr>\n",
       "      <th>2</th>\n",
       "      <td>0</td>\n",
       "      <td>208926768.0</td>\n",
       "      <td>6.0</td>\n",
       "      <td>0.0</td>\n",
       "      <td>20702.0</td>\n",
       "      <td>0.0</td>\n",
       "      <td>20677.0</td>\n",
       "      <td>31.0</td>\n",
       "    </tr>\n",
       "    <tr>\n",
       "      <th>3</th>\n",
       "      <td>1</td>\n",
       "      <td>30947064.0</td>\n",
       "      <td>8.0</td>\n",
       "      <td>0.0</td>\n",
       "      <td>28373.0</td>\n",
       "      <td>0.0</td>\n",
       "      <td>10785.0</td>\n",
       "      <td>23.0</td>\n",
       "    </tr>\n",
       "    <tr>\n",
       "      <th>4</th>\n",
       "      <td>0</td>\n",
       "      <td>137764288.0</td>\n",
       "      <td>9.0</td>\n",
       "      <td>0.0</td>\n",
       "      <td>19979.0</td>\n",
       "      <td>0.0</td>\n",
       "      <td>10574.0</td>\n",
       "      <td>36.0</td>\n",
       "    </tr>\n",
       "  </tbody>\n",
       "</table>\n",
       "</div>"
      ],
      "text/plain": [
       "   failure  read error rate  accumulated start-stop cycles  \\\n",
       "0        0       87117728.0                            4.0   \n",
       "1        1       40108520.0                           30.0   \n",
       "2        0      208926768.0                            6.0   \n",
       "3        1       30947064.0                            8.0   \n",
       "4        0      137764288.0                            9.0   \n",
       "\n",
       "   reallocated sectors count  accumulated power on time hours  \\\n",
       "0                        0.0                          33507.0   \n",
       "1                        0.0                          37030.0   \n",
       "2                        0.0                          20702.0   \n",
       "3                        0.0                          28373.0   \n",
       "4                        0.0                          19979.0   \n",
       "\n",
       "   reported uncorrectable errors  accumulated load-unload cycles  \\\n",
       "0                            0.0                          4579.0   \n",
       "1                            0.0                         61458.0   \n",
       "2                            0.0                         20677.0   \n",
       "3                            0.0                         10785.0   \n",
       "4                            0.0                         10574.0   \n",
       "\n",
       "   current temperature  \n",
       "0                 30.0  \n",
       "1                 24.0  \n",
       "2                 31.0  \n",
       "3                 23.0  \n",
       "4                 36.0  "
      ]
     },
     "execution_count": 18,
     "metadata": {},
     "output_type": "execute_result"
    }
   ],
   "source": [
    "df_renamed.head()"
   ]
  },
  {
   "cell_type": "code",
   "execution_count": 19,
   "id": "bdbf49aa",
   "metadata": {},
   "outputs": [
    {
     "data": {
      "text/plain": [
       "47320568.0     14\n",
       "176636704.0    14\n",
       "14004288.0     14\n",
       "78017432.0     14\n",
       "207211584.0    14\n",
       "               ..\n",
       "183291544.0     1\n",
       "119587912.0     1\n",
       "13324040.0      1\n",
       "31026752.0      1\n",
       "228126392.0     1\n",
       "Name: read error rate, Length: 377440, dtype: int64"
      ]
     },
     "execution_count": 19,
     "metadata": {},
     "output_type": "execute_result"
    }
   ],
   "source": [
    "df_renamed['read error rate'].value_counts() # read error rate"
   ]
  },
  {
   "cell_type": "code",
   "execution_count": 20,
   "id": "3f0b20cc",
   "metadata": {},
   "outputs": [
    {
     "data": {
      "text/plain": [
       "6.0       31754\n",
       "4.0       29492\n",
       "5.0       28969\n",
       "7.0       27139\n",
       "9.0       25797\n",
       "          ...  \n",
       "1287.0        9\n",
       "1114.0        9\n",
       "69.0          6\n",
       "1507.0        6\n",
       "1224.0        1\n",
       "Name: accumulated start-stop cycles, Length: 69, dtype: int64"
      ]
     },
     "execution_count": 20,
     "metadata": {},
     "output_type": "execute_result"
    }
   ],
   "source": [
    "df_renamed['accumulated start-stop cycles'].value_counts() # start stop count"
   ]
  },
  {
   "cell_type": "code",
   "execution_count": 21,
   "id": "8dcd3068",
   "metadata": {},
   "outputs": [
    {
     "data": {
      "text/plain": [
       "0.0        377063\n",
       "8.0          1625\n",
       "16.0          259\n",
       "48.0          145\n",
       "24.0          121\n",
       "            ...  \n",
       "33784.0         1\n",
       "33712.0         1\n",
       "33480.0         1\n",
       "33400.0         1\n",
       "2424.0          1\n",
       "Name: reallocated sectors count, Length: 176, dtype: int64"
      ]
     },
     "execution_count": 21,
     "metadata": {},
     "output_type": "execute_result"
    }
   ],
   "source": [
    "df_renamed['reallocated sectors count'].value_counts()"
   ]
  },
  {
   "cell_type": "code",
   "execution_count": 22,
   "id": "97cca2cb",
   "metadata": {},
   "outputs": [
    {
     "data": {
      "text/plain": [
       "23839.0    106\n",
       "23815.0    103\n",
       "23791.0    102\n",
       "23743.0     97\n",
       "23767.0     96\n",
       "          ... \n",
       "8868.0       1\n",
       "31451.0      1\n",
       "4752.0       1\n",
       "15055.0      1\n",
       "32338.0      1\n",
       "Name: accumulated power on time hours, Length: 30213, dtype: int64"
      ]
     },
     "execution_count": 22,
     "metadata": {},
     "output_type": "execute_result"
    }
   ],
   "source": [
    "df_renamed['accumulated power on time hours'].value_counts()"
   ]
  },
  {
   "cell_type": "code",
   "execution_count": 23,
   "id": "60e50d2e",
   "metadata": {},
   "outputs": [
    {
     "data": {
      "text/plain": [
       "0.0     368721\n",
       "1.0       2743\n",
       "2.0       1843\n",
       "6.0       1418\n",
       "3.0        776\n",
       "7.0        591\n",
       "18.0       576\n",
       "4.0        444\n",
       "5.0        372\n",
       "8.0        346\n",
       "12.0       310\n",
       "9.0        288\n",
       "13.0       210\n",
       "10.0       132\n",
       "30.0       127\n",
       "20.0       117\n",
       "16.0       108\n",
       "27.0       101\n",
       "21.0        94\n",
       "36.0        82\n",
       "48.0        76\n",
       "11.0        74\n",
       "78.0        70\n",
       "63.0        70\n",
       "24.0        58\n",
       "54.0        48\n",
       "17.0        32\n",
       "15.0        31\n",
       "26.0        30\n",
       "14.0        30\n",
       "23.0        23\n",
       "32.0        20\n",
       "44.0        19\n",
       "65.0        16\n",
       "39.0        15\n",
       "38.0        11\n",
       "22.0        10\n",
       "28.0         5\n",
       "29.0         4\n",
       "31.0         4\n",
       "33.0         3\n",
       "40.0         2\n",
       "52.0         1\n",
       "25.0         1\n",
       "62.0         1\n",
       "69.0         1\n",
       "43.0         1\n",
       "73.0         1\n",
       "88.0         1\n",
       "79.0         1\n",
       "51.0         1\n",
       "53.0         1\n",
       "49.0         1\n",
       "41.0         1\n",
       "Name: reported uncorrectable errors, dtype: int64"
      ]
     },
     "execution_count": 23,
     "metadata": {},
     "output_type": "execute_result"
    }
   ],
   "source": [
    "df_renamed['reported uncorrectable errors'].value_counts()"
   ]
  },
  {
   "cell_type": "code",
   "execution_count": 24,
   "id": "5e44589f",
   "metadata": {},
   "outputs": [
    {
     "data": {
      "text/plain": [
       "53011.0     127\n",
       "9129.0      127\n",
       "20348.0     125\n",
       "19421.0     119\n",
       "42632.0     117\n",
       "           ... \n",
       "53272.0       1\n",
       "14427.0       1\n",
       "95728.0       1\n",
       "54072.0       1\n",
       "259806.0      1\n",
       "Name: accumulated load-unload cycles, Length: 47040, dtype: int64"
      ]
     },
     "execution_count": 24,
     "metadata": {},
     "output_type": "execute_result"
    }
   ],
   "source": [
    "df_renamed['accumulated load-unload cycles'].value_counts()"
   ]
  },
  {
   "cell_type": "code",
   "execution_count": 25,
   "id": "bc778176",
   "metadata": {},
   "outputs": [
    {
     "data": {
      "text/plain": [
       "23.0     52959\n",
       "22.0     49001\n",
       "24.0     39821\n",
       "21.0     36168\n",
       "20.0     33732\n",
       "25.0     30052\n",
       "26.0     25152\n",
       "19.0     22112\n",
       "27.0     18042\n",
       "28.0     13301\n",
       "29.0     11706\n",
       "18.0     10654\n",
       "30.0      8828\n",
       "31.0      6901\n",
       "32.0      5503\n",
       "17.0      4248\n",
       "33.0      3226\n",
       "34.0      2754\n",
       "35.0      2682\n",
       "36.0      1054\n",
       "16.0       892\n",
       "37.0       553\n",
       "38.0       265\n",
       "15.0       163\n",
       "39.0        76\n",
       "40.0        41\n",
       "49.0        34\n",
       "50.0        34\n",
       "48.0        21\n",
       "47.0        20\n",
       "46.0        17\n",
       "14.0        13\n",
       "44.0        11\n",
       "45.0         6\n",
       "51.0         6\n",
       "43.0         6\n",
       "141.0        5\n",
       "41.0         3\n",
       "Name: current temperature, dtype: int64"
      ]
     },
     "execution_count": 25,
     "metadata": {},
     "output_type": "execute_result"
    }
   ],
   "source": [
    "df_renamed['current temperature'].value_counts()"
   ]
  },
  {
   "cell_type": "code",
   "execution_count": 26,
   "id": "158a7002",
   "metadata": {},
   "outputs": [
    {
     "data": {
      "image/png": "[encoded data removed]",
      "text/plain": [
       "<Figure size 1300x1000 with 2 Axes>"
      ]
     },
     "metadata": {},
     "output_type": "display_data"
    }
   ],
   "source": [
    "import numpy as np\n",
    "import pandas as pd\n",
    "import matplotlib.pyplot as plt\n",
    "import seaborn as sns\n",
    "\n",
    "#df_bb_numeric = df_bb_normalized.drop(columns=string_columns, axis=1)\n",
    "\n",
    "corr = df_renamed.corr()\n",
    "#Plot figsize\n",
    "fig, ax = plt.subplots(figsize=(13, 10))\n",
    "#Generate Heat Map, allow annotations and place floats in map\n",
    "sns.heatmap(corr, annot=True, fmt=\".2f\")\n",
    "#Apply xticks\n",
    "plt.xticks(range(len(corr.columns)), corr.columns);\n",
    "#Apply yticks\n",
    "plt.yticks(range(len(corr.columns)), corr.columns)\n",
    "#show plot\n",
    "plt.show()"
   ]
  },
  {
   "cell_type": "markdown",
   "id": "cf3e4abc",
   "metadata": {},
   "source": [
    "Из матрицы корелляций можно отметить, что:\n",
    "- reported uncorrectable errors достаточно коррелирует с failure (0.23)\n",
    "- accumulated start-stop cycles немного коррелирует с accumulated load-unload cycles (0.12) (*было видно на _raw данных и не видно на нормализованных*)\n",
    "- accumulated load-unload cycles достаточно коррелирует с accumulated power on time hours (0.32) \n",
    "- accumulated start-stop cycles немного коррелирует с accumulated power on time hours (0.19) (*было видно на _raw данных и не видно на нормализованных*)\n",
    "- current temperature немного коррелирует с accumulated load-unload cycles (0.14)\n",
    "- accumulated power on time hours немного кореллирует с current temperature (0.09)"
   ]
  },
  {
   "cell_type": "markdown",
   "id": "7d298d59",
   "metadata": {},
   "source": [
    "### Splitting data"
   ]
  },
  {
   "cell_type": "code",
   "execution_count": 20,
   "id": "68d32884",
   "metadata": {},
   "outputs": [
    {
     "name": "stdout",
     "output_type": "stream",
     "text": [
      "Shape of X_train:  (285046, 7)\n",
      "Shape of X_test:  (95016, 7)\n",
      "Shape of y_train:  (285046,)\n",
      "Shape of y_test (95016,)\n"
     ]
    }
   ],
   "source": [
    "from sklearn.model_selection import train_test_split\n",
    "\n",
    "X = df_bb_normalized.drop('failure', axis=1)\n",
    "y = df_bb_normalized['failure']\n",
    "X_train, X_test, y_train, y_test = train_test_split(X, y, test_size = 0.25, random_state = 42)\n",
    "print(\"Shape of X_train: \",X_train.shape)\n",
    "print(\"Shape of X_test: \", X_test.shape)\n",
    "print(\"Shape of y_train: \",y_train.shape)\n",
    "print(\"Shape of y_test\",y_test.shape)"
   ]
  },
  {
   "cell_type": "markdown",
   "id": "961d83be",
   "metadata": {},
   "source": [
    "### Applying models"
   ]
  },
  {
   "cell_type": "markdown",
   "id": "6e39bfd9",
   "metadata": {},
   "source": [
    "#### Applying RF"
   ]
  },
  {
   "cell_type": "code",
   "execution_count": 21,
   "id": "c4f534e8",
   "metadata": {},
   "outputs": [
    {
     "name": "stdout",
     "output_type": "stream",
     "text": [
      "20:45:29\n",
      "20:45:31\n"
     ]
    }
   ],
   "source": [
    "from sklearn.ensemble import RandomForestClassifier\n",
    "import time \n",
    "\n",
    "clf = RandomForestClassifier(n_estimators=10, random_state=42)\n",
    "\n",
    "t = time.localtime()\n",
    "current_time = time.strftime(\"%H:%M:%S\", t)\n",
    "print(current_time)\n",
    "clf.fit(X_train, y_train)\n",
    "print(time.strftime(\"%H:%M:%S\", time.localtime()))"
   ]
  },
  {
   "cell_type": "code",
   "execution_count": 22,
   "id": "eaaf0c39",
   "metadata": {
    "scrolled": false
   },
   "outputs": [
    {
     "name": "stdout",
     "output_type": "stream",
     "text": [
      "Training set accuracy:  0.9846901903552409\n",
      "Test set accuracy:  0.9764671213269344\n"
     ]
    },
    {
     "data": {
      "image/png": "[encoded data removed]",
      "text/plain": [
       "<Figure size 640x480 with 2 Axes>"
      ]
     },
     "metadata": {},
     "output_type": "display_data"
    }
   ],
   "source": [
    "from sklearn.metrics import accuracy_score\n",
    "from sklearn.metrics import confusion_matrix\n",
    "\n",
    "y_pred_train = clf.predict(X_train)\n",
    "accuracy_train = accuracy_score(y_train, y_pred_train)\n",
    "print(\"Training set accuracy: \", accuracy_train)\n",
    "\n",
    "y_pred_test = clf.predict(X_test)\n",
    "accuracy_test = accuracy_score(y_test, y_pred_test)\n",
    "print(\"Test set accuracy: \", accuracy_test)\n",
    "sns.heatmap(confusion_matrix(y_test, y_pred_test), annot=True, fmt='.0f')\n",
    "plt.show()"
   ]
  },
  {
   "cell_type": "markdown",
   "id": "dd9f2aa1",
   "metadata": {},
   "source": [
    "#### KNN"
   ]
  },
  {
   "cell_type": "code",
   "execution_count": 23,
   "id": "b8433620",
   "metadata": {},
   "outputs": [
    {
     "name": "stdout",
     "output_type": "stream",
     "text": [
      "20:45:32\n",
      "20:45:33\n",
      "(285046, 7) (95016, 7)\n"
     ]
    }
   ],
   "source": [
    "from sklearn.neighbors import KNeighborsClassifier\n",
    "\n",
    "knn = KNeighborsClassifier(n_neighbors=3)\n",
    "\n",
    "t = time.localtime()\n",
    "current_time = time.strftime(\"%H:%M:%S\", t)\n",
    "print(current_time)\n",
    "knn.fit(X_train, y_train)\n",
    "print(time.strftime(\"%H:%M:%S\", time.localtime()))\n",
    "print(X_train.shape, X_test.shape)"
   ]
  },
  {
   "cell_type": "code",
   "execution_count": 24,
   "id": "ab5a1488",
   "metadata": {},
   "outputs": [
    {
     "name": "stdout",
     "output_type": "stream",
     "text": [
      "Training set accuracy:  0.9804978845519671\n",
      "Test set accuracy:  0.9745306053717269\n"
     ]
    },
    {
     "data": {
      "image/png": "[encoded data removed]",
      "text/plain": [
       "<Figure size 640x480 with 2 Axes>"
      ]
     },
     "metadata": {},
     "output_type": "display_data"
    }
   ],
   "source": [
    "from sklearn.metrics import accuracy_score\n",
    "from sklearn.metrics import confusion_matrix\n",
    "\n",
    "y_pred_train = knn.predict(X_train)\n",
    "accuracy_train = accuracy_score(y_train, y_pred_train)\n",
    "print(\"Training set accuracy: \", accuracy_train)\n",
    "\n",
    "y_pred_test = knn.predict(X_test)\n",
    "accuracy_test = accuracy_score(y_test, y_pred_test)\n",
    "print(\"Test set accuracy: \", accuracy_test)\n",
    "sns.heatmap(confusion_matrix(y_test, y_pred_test), annot=True, fmt='.0f')\n",
    "plt.show()"
   ]
  },
  {
   "cell_type": "markdown",
   "id": "8fd8763a",
   "metadata": {},
   "source": [
    "#### SVM"
   ]
  },
  {
   "cell_type": "code",
   "execution_count": null,
   "id": "6d1d8ad9",
   "metadata": {},
   "outputs": [
    {
     "name": "stdout",
     "output_type": "stream",
     "text": [
      "20:46:16\n"
     ]
    }
   ],
   "source": [
    "import time\n",
    "from sklearn.svm import SVC\n",
    "\n",
    "t = time.localtime()\n",
    "current_time = time.strftime(\"%H:%M:%S\", t)\n",
    "print(current_time)\n",
    "model = SVC(random_state=42)\n",
    "model.fit(X_train, y_train)\n",
    "t = time.localtime()\n",
    "current_time = time.strftime(\"%H:%M:%S\", t)\n",
    "print(current_time)"
   ]
  },
  {
   "cell_type": "code",
   "execution_count": null,
   "id": "bad545ec",
   "metadata": {},
   "outputs": [],
   "source": [
    "from sklearn.metrics import accuracy_score\n",
    "from sklearn.metrics import confusion_matrix\n",
    "\n",
    "y_pred_train = model.predict(X_train)\n",
    "accuracy_train = accuracy_score(y_train, y_pred_train)\n",
    "print(\"Training set accuracy: \", accuracy_train)\n",
    "\n",
    "y_pred_test = model.predict(X_test)\n",
    "accuracy_test = accuracy_score(y_test, y_pred_test)\n",
    "print(\"Test set accuracy: \", accuracy_test)\n",
    "sns.heatmap(confusion_matrix(y_test, y_pred_test), annot=True, fmt='.0f')\n",
    "plt.show()"
   ]
  },
  {
   "cell_type": "markdown",
   "id": "9091ba87",
   "metadata": {},
   "source": [
    "#### BPNN "
   ]
  },
  {
   "cell_type": "code",
   "execution_count": null,
   "id": "98a4a9dd",
   "metadata": {},
   "outputs": [],
   "source": [
    "from keras.models import Sequential\n",
    "from keras.layers import Dense, Activation\n",
    "import numpy as np"
   ]
  },
  {
   "cell_type": "code",
   "execution_count": null,
   "id": "1857250d",
   "metadata": {},
   "outputs": [],
   "source": [
    "model = Sequential()\n",
    "model.add(Dense(10, input_shape=(7,), activation='sigmoid'))\n",
    "model.add(Dense(1, activation='sigmoid'))\n",
    "\n",
    "model.compile(loss='binary_crossentropy', optimizer='adam', metrics=['accuracy']) \n",
    "model.summary()"
   ]
  },
  {
   "cell_type": "code",
   "execution_count": null,
   "id": "0c1bc384",
   "metadata": {
    "scrolled": false
   },
   "outputs": [],
   "source": [
    "model.fit(X_train, y_train, epochs=100, batch_size=10)"
   ]
  },
  {
   "cell_type": "code",
   "execution_count": null,
   "id": "481962ec",
   "metadata": {},
   "outputs": [],
   "source": [
    "y_pred_test = model.predict(X_test)"
   ]
  },
  {
   "cell_type": "code",
   "execution_count": null,
   "id": "d757ee0f",
   "metadata": {},
   "outputs": [],
   "source": [
    "y_pred_test = (model.predict(X_test) > 0.5).astype(\"int32\")"
   ]
  },
  {
   "cell_type": "code",
   "execution_count": null,
   "id": "24e20fc4",
   "metadata": {},
   "outputs": [],
   "source": [
    "from sklearn.metrics import confusion_matrix\n",
    "result = confusion_matrix(y_test, y_pred_test)\n",
    "sns.heatmap(confusion_matrix(y_test, y_pred_test), annot=True, fmt='.0f')\n",
    "plt.show()"
   ]
  },
  {
   "cell_type": "code",
   "execution_count": null,
   "id": "e69eb1e6",
   "metadata": {},
   "outputs": [],
   "source": []
  }
 ],
 "metadata": {
  "kernelspec": {
   "display_name": "Python 3 (ipykernel)",
   "language": "python",
   "name": "python3"
  },
  "language_info": {
   "codemirror_mode": {
    "name": "ipython",
    "version": 3
   },
   "file_extension": ".py",
   "mimetype": "text/x-python",
   "name": "python",
   "nbconvert_exporter": "python",
   "pygments_lexer": "ipython3",
   "version": "3.10.8"
  }
 },
 "nbformat": 4,
 "nbformat_minor": 5
}
